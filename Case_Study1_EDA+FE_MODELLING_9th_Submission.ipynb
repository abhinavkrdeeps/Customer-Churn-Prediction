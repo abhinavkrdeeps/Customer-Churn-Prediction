{
  "nbformat": 4,
  "nbformat_minor": 0,
  "metadata": {
    "colab": {
      "name": "Case Study1 -EDA+FE_MODELLING_9th_Submission.ipynb",
      "provenance": [],
      "toc_visible": true
    },
    "kernelspec": {
      "name": "python3",
      "display_name": "Python 3"
    },
    "accelerator": "GPU"
  },
  "cells": [
    {
      "cell_type": "markdown",
      "metadata": {
        "id": "viIiuEdWPtBd"
      },
      "source": [
        "**Overview**\r\n",
        "\r\n",
        "I am working on a classification problem from kaggle which is Customer churn Prediction.\r\n",
        "\r\n",
        "**Business Problem**\r\n",
        "\r\n",
        " It is said that for a company to grow its business two things play a great role, first is acquiring new customers and other is to retain old customers. So, The ability to predict that a particular customer is at a high risk of leaving, while there is still time to do something about it, will really boost the revenue source of the company.\r\n",
        "\r\n",
        "\r\n",
        " **why to pose this as a Machine Learning Problem ?**\r\n",
        "\r\n",
        "By looking at the data and doing simple eda, it is not possible to set a structure of if-else rules to predict the churning of customers.So we have to use some ml algorithms to find pattern in data and predict whether a customer will churn or not.\r\n",
        "\r\n",
        "\r\n",
        "\r\n",
        "\r\n",
        "\r\n",
        "**ML formulation of business problem**\r\n",
        "\r\n",
        " Now after understanding the what and why we need to solve, we can convert the business problem to a Machine Learning Problem. Here we are predicting whether a customer will churn(leave) the company or not given various behaviours of the customer about which we will discuss when we do detailed dataset analysis. So here our target is to predict whether a customer will churn or not. So we have a Binary Class classification Problem(Will churn/ Will not churn).\r\n",
        "\r\n",
        "**performance metric**\r\n",
        "\r\n",
        "As this is a binary classification, we can use multiple metrics. Below I have tried to explain which metrics will define what in case of customer churn prediction.\r\n",
        "\r\n",
        "**Confusion Matrix**\r\n",
        "\r\n",
        "A confusion matrix is a table that is  used to describe the performance of a classification model test data for which we know truth values.\r\n",
        "\r\n",
        "**true positives (TP)**: These are cases  which are predicted positve and are actual positives.\r\n",
        "\r\n",
        "**true negatives (TN)**: These are cases which are predicted to negative and are actually negative.\r\n",
        "\r\n",
        "**false positives (FP)**: These are cases which are predicted to be positive but are actually negative.\r\n",
        "\r\n",
        "\r\n",
        "**false negatives (FN)**: These are cases which are predicted to be negative but are actually positives.\r\n",
        "\r\n",
        " In our case:\r\n",
        "\r\n",
        "   Let positive case be customers are not churned( that is 0).\r\n",
        "\r\n",
        "   Let negative case be customers got churned( that is 1).\r\n",
        "\r\n",
        "   In our case we want tp to be high, as tp high means the cases where models predict that it would not not churn will actually did not churn. So, this is what we want.\r\n",
        "\r\n",
        "   We also want FN to be small, because if the model predict the customer as churned and actually it does not churn, then company would waste money in providing benefits to the particular customer.\r\n",
        "\r\n",
        "\r\n",
        "**Precision**: What % of Customers Predicted to Churn Actually Churned?\r\n",
        "\r\n",
        "    --- Number of true positives (TP) over the number of true positives plus the number of false positives (FP).\r\n",
        "   \r\n",
        "    precision = (TP/(TP+FP))\r\n",
        "\r\n",
        "**Recall**: What % of the Customers Who Will Actually Churn Is the Model Able to Tag as ‘Will Churn?’\r\n",
        "\r\n",
        "    ---    number of true positives (TP) over the number of true positives plus the number of false negatives (FN).\r\n",
        "\r\n",
        "    recall = (TP/(TP+FN))\r\n",
        "   \r\n",
        "\r\n",
        "As we know there is always a tug of war between precision and recall. Generally increasing one tends to reduce others. So this should be problem specific which out of them we want to increase. \r\n",
        "In this case precision will tell us What % of Customers Predicted to Churn Actually Churned?, so if the model predicted a person to churn who actually will not churn then it will not make much effect. But Recall tells us  What % of the Customers Who Will Actually Churn Is the Model Able to Tag as ‘Will Churn?’, if a model will tag a customer as will not churn but actually customer churns then it would  have a bad impact. \r\n",
        "\r\n",
        "\r\n",
        "**F1 Score**\r\n",
        "\r\n",
        "The F1 score  is the  weighted average of the precision and recall, where ther F1 score reaches its best value at 1 and worst score at 0.\r\n",
        "\r\n",
        "**F1 = 2 * (precision * recall) / (precision + recall)**\r\n",
        "\r\n",
        "**Average used in precision, recall and F1 Score**\r\n",
        "\r\n",
        "Precision, recall and F1-Score all of them scores for all the classes and get effected by class imbalanced. To solve this we can use how we want to avearge them. Below are the options on how to average and which one to use when.\r\n",
        "\r\n",
        "**'binary'**: It gives score only for the class specified by pso_label.\r\n",
        "\r\n",
        "**'micro'**: It calculates metrics globally by counting total, tp,fp and fn.\r\n",
        "\r\n",
        "**'macro'**:  It calculates metrics for each label and return their unweighted means. \r\n",
        "\r\n",
        "**'weighted'**: It calculates metrics for each label and return their averge weighted means by the number of true instances for each label.\r\n",
        "\r\n",
        "**As our dataset is imbalanced , we should use average as 'weighted' which would calculate metrics for each label 0,1 and find their average weighted by the number of true instances of each label**"
      ]
    },
    {
      "cell_type": "markdown",
      "metadata": {
        "id": "WIzBOlW2P2l9"
      },
      "source": [
        "**Importing Required Libraries**"
      ]
    },
    {
      "cell_type": "code",
      "metadata": {
        "id": "yolbLhue90_7"
      },
      "source": [
        "import pandas as pd\r\n",
        "from matplotlib import pyplot as plt\r\n",
        "import seaborn as sns\r\n",
        "import numpy as np\r\n",
        "import warnings\r\n",
        "warnings.filterwarnings(\"ignore\")"
      ],
      "execution_count": null,
      "outputs": []
    },
    {
      "cell_type": "code",
      "metadata": {
        "id": "rSu1BfTG-ky0"
      },
      "source": [
        "data = pd.read_csv('/content/Churn Modeling.csv')  # reading data using pandas "
      ],
      "execution_count": null,
      "outputs": []
    },
    {
      "cell_type": "code",
      "metadata": {
        "colab": {
          "base_uri": "https://localhost:8080/"
        },
        "id": "A2ZJ0gEb-xVu",
        "outputId": "d9a13bf1-1a89-4a10-84ce-60fe255c4fef"
      },
      "source": [
        "data.shape # shape of data. Here we have 10k rows and 12 columns"
      ],
      "execution_count": null,
      "outputs": [
        {
          "output_type": "execute_result",
          "data": {
            "text/plain": [
              "(10000, 14)"
            ]
          },
          "metadata": {
            "tags": []
          },
          "execution_count": 4
        }
      ]
    },
    {
      "cell_type": "code",
      "metadata": {
        "colab": {
          "base_uri": "https://localhost:8080/"
        },
        "id": "3JwkFbPW-4Ky",
        "outputId": "2baf0771-3c02-41a8-ffc4-6360af516f8d"
      },
      "source": [
        "data.columns.values"
      ],
      "execution_count": null,
      "outputs": [
        {
          "output_type": "execute_result",
          "data": {
            "text/plain": [
              "array(['RowNumber', 'CustomerId', 'Surname', 'CreditScore', 'Geography',\n",
              "       'Gender', 'Age', 'Tenure', 'Balance', 'NumOfProducts', 'HasCrCard',\n",
              "       'IsActiveMember', 'EstimatedSalary', 'Exited'], dtype=object)"
            ]
          },
          "metadata": {
            "tags": []
          },
          "execution_count": 5
        }
      ]
    },
    {
      "cell_type": "code",
      "metadata": {
        "colab": {
          "base_uri": "https://localhost:8080/",
          "height": 347
        },
        "id": "IDHglG15-9Ug",
        "outputId": "b1d3c893-191e-43ac-ae67-1feed2f3a53e"
      },
      "source": [
        "data.head(10)"
      ],
      "execution_count": null,
      "outputs": [
        {
          "output_type": "execute_result",
          "data": {
            "text/html": [
              "<div>\n",
              "<style scoped>\n",
              "    .dataframe tbody tr th:only-of-type {\n",
              "        vertical-align: middle;\n",
              "    }\n",
              "\n",
              "    .dataframe tbody tr th {\n",
              "        vertical-align: top;\n",
              "    }\n",
              "\n",
              "    .dataframe thead th {\n",
              "        text-align: right;\n",
              "    }\n",
              "</style>\n",
              "<table border=\"1\" class=\"dataframe\">\n",
              "  <thead>\n",
              "    <tr style=\"text-align: right;\">\n",
              "      <th></th>\n",
              "      <th>RowNumber</th>\n",
              "      <th>CustomerId</th>\n",
              "      <th>Surname</th>\n",
              "      <th>CreditScore</th>\n",
              "      <th>Geography</th>\n",
              "      <th>Gender</th>\n",
              "      <th>Age</th>\n",
              "      <th>Tenure</th>\n",
              "      <th>Balance</th>\n",
              "      <th>NumOfProducts</th>\n",
              "      <th>HasCrCard</th>\n",
              "      <th>IsActiveMember</th>\n",
              "      <th>EstimatedSalary</th>\n",
              "      <th>Exited</th>\n",
              "    </tr>\n",
              "  </thead>\n",
              "  <tbody>\n",
              "    <tr>\n",
              "      <th>0</th>\n",
              "      <td>1</td>\n",
              "      <td>15634602</td>\n",
              "      <td>Hargrave</td>\n",
              "      <td>619</td>\n",
              "      <td>France</td>\n",
              "      <td>Female</td>\n",
              "      <td>42</td>\n",
              "      <td>2</td>\n",
              "      <td>0.00</td>\n",
              "      <td>1</td>\n",
              "      <td>1</td>\n",
              "      <td>1</td>\n",
              "      <td>101348.88</td>\n",
              "      <td>1</td>\n",
              "    </tr>\n",
              "    <tr>\n",
              "      <th>1</th>\n",
              "      <td>2</td>\n",
              "      <td>15647311</td>\n",
              "      <td>Hill</td>\n",
              "      <td>608</td>\n",
              "      <td>Spain</td>\n",
              "      <td>Female</td>\n",
              "      <td>41</td>\n",
              "      <td>1</td>\n",
              "      <td>83807.86</td>\n",
              "      <td>1</td>\n",
              "      <td>0</td>\n",
              "      <td>1</td>\n",
              "      <td>112542.58</td>\n",
              "      <td>0</td>\n",
              "    </tr>\n",
              "    <tr>\n",
              "      <th>2</th>\n",
              "      <td>3</td>\n",
              "      <td>15619304</td>\n",
              "      <td>Onio</td>\n",
              "      <td>502</td>\n",
              "      <td>France</td>\n",
              "      <td>Female</td>\n",
              "      <td>42</td>\n",
              "      <td>8</td>\n",
              "      <td>159660.80</td>\n",
              "      <td>3</td>\n",
              "      <td>1</td>\n",
              "      <td>0</td>\n",
              "      <td>113931.57</td>\n",
              "      <td>1</td>\n",
              "    </tr>\n",
              "    <tr>\n",
              "      <th>3</th>\n",
              "      <td>4</td>\n",
              "      <td>15701354</td>\n",
              "      <td>Boni</td>\n",
              "      <td>699</td>\n",
              "      <td>France</td>\n",
              "      <td>Female</td>\n",
              "      <td>39</td>\n",
              "      <td>1</td>\n",
              "      <td>0.00</td>\n",
              "      <td>2</td>\n",
              "      <td>0</td>\n",
              "      <td>0</td>\n",
              "      <td>93826.63</td>\n",
              "      <td>0</td>\n",
              "    </tr>\n",
              "    <tr>\n",
              "      <th>4</th>\n",
              "      <td>5</td>\n",
              "      <td>15737888</td>\n",
              "      <td>Mitchell</td>\n",
              "      <td>850</td>\n",
              "      <td>Spain</td>\n",
              "      <td>Female</td>\n",
              "      <td>43</td>\n",
              "      <td>2</td>\n",
              "      <td>125510.82</td>\n",
              "      <td>1</td>\n",
              "      <td>1</td>\n",
              "      <td>1</td>\n",
              "      <td>79084.10</td>\n",
              "      <td>0</td>\n",
              "    </tr>\n",
              "    <tr>\n",
              "      <th>5</th>\n",
              "      <td>6</td>\n",
              "      <td>15574012</td>\n",
              "      <td>Chu</td>\n",
              "      <td>645</td>\n",
              "      <td>Spain</td>\n",
              "      <td>Male</td>\n",
              "      <td>44</td>\n",
              "      <td>8</td>\n",
              "      <td>113755.78</td>\n",
              "      <td>2</td>\n",
              "      <td>1</td>\n",
              "      <td>0</td>\n",
              "      <td>149756.71</td>\n",
              "      <td>1</td>\n",
              "    </tr>\n",
              "    <tr>\n",
              "      <th>6</th>\n",
              "      <td>7</td>\n",
              "      <td>15592531</td>\n",
              "      <td>Bartlett</td>\n",
              "      <td>822</td>\n",
              "      <td>France</td>\n",
              "      <td>Male</td>\n",
              "      <td>50</td>\n",
              "      <td>7</td>\n",
              "      <td>0.00</td>\n",
              "      <td>2</td>\n",
              "      <td>1</td>\n",
              "      <td>1</td>\n",
              "      <td>10062.80</td>\n",
              "      <td>0</td>\n",
              "    </tr>\n",
              "    <tr>\n",
              "      <th>7</th>\n",
              "      <td>8</td>\n",
              "      <td>15656148</td>\n",
              "      <td>Obinna</td>\n",
              "      <td>376</td>\n",
              "      <td>Germany</td>\n",
              "      <td>Female</td>\n",
              "      <td>29</td>\n",
              "      <td>4</td>\n",
              "      <td>115046.74</td>\n",
              "      <td>4</td>\n",
              "      <td>1</td>\n",
              "      <td>0</td>\n",
              "      <td>119346.88</td>\n",
              "      <td>1</td>\n",
              "    </tr>\n",
              "    <tr>\n",
              "      <th>8</th>\n",
              "      <td>9</td>\n",
              "      <td>15792365</td>\n",
              "      <td>He</td>\n",
              "      <td>501</td>\n",
              "      <td>France</td>\n",
              "      <td>Male</td>\n",
              "      <td>44</td>\n",
              "      <td>4</td>\n",
              "      <td>142051.07</td>\n",
              "      <td>2</td>\n",
              "      <td>0</td>\n",
              "      <td>1</td>\n",
              "      <td>74940.50</td>\n",
              "      <td>0</td>\n",
              "    </tr>\n",
              "    <tr>\n",
              "      <th>9</th>\n",
              "      <td>10</td>\n",
              "      <td>15592389</td>\n",
              "      <td>H?</td>\n",
              "      <td>684</td>\n",
              "      <td>France</td>\n",
              "      <td>Male</td>\n",
              "      <td>27</td>\n",
              "      <td>2</td>\n",
              "      <td>134603.88</td>\n",
              "      <td>1</td>\n",
              "      <td>1</td>\n",
              "      <td>1</td>\n",
              "      <td>71725.73</td>\n",
              "      <td>0</td>\n",
              "    </tr>\n",
              "  </tbody>\n",
              "</table>\n",
              "</div>"
            ],
            "text/plain": [
              "   RowNumber  CustomerId   Surname  ...  IsActiveMember EstimatedSalary Exited\n",
              "0          1    15634602  Hargrave  ...               1       101348.88      1\n",
              "1          2    15647311      Hill  ...               1       112542.58      0\n",
              "2          3    15619304      Onio  ...               0       113931.57      1\n",
              "3          4    15701354      Boni  ...               0        93826.63      0\n",
              "4          5    15737888  Mitchell  ...               1        79084.10      0\n",
              "5          6    15574012       Chu  ...               0       149756.71      1\n",
              "6          7    15592531  Bartlett  ...               1        10062.80      0\n",
              "7          8    15656148    Obinna  ...               0       119346.88      1\n",
              "8          9    15792365        He  ...               1        74940.50      0\n",
              "9         10    15592389        H?  ...               1        71725.73      0\n",
              "\n",
              "[10 rows x 14 columns]"
            ]
          },
          "metadata": {
            "tags": []
          },
          "execution_count": 5
        }
      ]
    },
    {
      "cell_type": "code",
      "metadata": {
        "colab": {
          "base_uri": "https://localhost:8080/"
        },
        "id": "-5FxFvDT_EBT",
        "outputId": "612997b2-8af3-4789-fd3e-c4627c47f2fd"
      },
      "source": [
        "data.dtypes  # Data types of all columns as we have to convert the objects either into float64 or int64"
      ],
      "execution_count": null,
      "outputs": [
        {
          "output_type": "execute_result",
          "data": {
            "text/plain": [
              "RowNumber            int64\n",
              "CustomerId           int64\n",
              "Surname             object\n",
              "CreditScore          int64\n",
              "Geography           object\n",
              "Gender              object\n",
              "Age                  int64\n",
              "Tenure               int64\n",
              "Balance            float64\n",
              "NumOfProducts        int64\n",
              "HasCrCard            int64\n",
              "IsActiveMember       int64\n",
              "EstimatedSalary    float64\n",
              "Exited               int64\n",
              "dtype: object"
            ]
          },
          "metadata": {
            "tags": []
          },
          "execution_count": 6
        }
      ]
    },
    {
      "cell_type": "markdown",
      "metadata": {
        "id": "c1Hi3aeSQSh3"
      },
      "source": [
        "**Understanding Columns and Transformations if neccessary**\r\n",
        "\r\n",
        "---\r\n",
        "\r\n",
        "\r\n",
        "***Customerid*** - As we are predicting if the customer will exit or not i dont think this id will have any role. We can just drop  it.\r\n",
        "\r\n",
        "***Surname***- It will also not have any effect untill the company is racist(just a joke). so we can drop it also.\r\n",
        "\r\n",
        "***CreditScore*** -  A credit score is a numerical expression based on a level analysis of a person's credit files, to represent the creditworthiness of an individual(wikipedia). So we can also think that if the credit score of a person is high, he/she might not leave it. So it can play some role. we will see univariate analysis in some time.\r\n",
        "\r\n",
        "***Geography*** - It can actually play good role. We can think  like this, suppose in one area the company is providing good service, so less people is leaving and in some loaction the service is ver bad, so more people are leaving. As the data type is object, we will label encode it.\r\n",
        "\r\n",
        "***Gender***- Male/Female. We cant say anything on gender, it may or may not have any effect while predicting but we will keep it. As it is also string we will convert it to 0 and 1.\r\n",
        "\r\n",
        "***Age***- It can be good candidate. As we have different age groups with different savings(i donot have any)/ money. so we can think it like same age groups are earning and they can afford services and hence will not leave.\r\n",
        "\r\n",
        "***Tenure***- Number of yrs/months a person is loyal with the company. If a person is from very long we can say that they are satisfied and may not leave.\r\n",
        "\r\n",
        "***Balance***- I think this is the amount they are or they have to spend on the services. it can be useful for predicting.\r\n",
        "\r\n",
        "\r\n",
        "***NumOfProducts***- Number of products/services the customer is using from the company.\r\n",
        "\r\n",
        "***HasCrCard***- If the customer has a credit card or not.\r\n",
        "\r\n",
        "***IsActiveMember***- If the customer is active or not(generally use the services or not)\r\n",
        "\r\n",
        "***EstimatedSalary***- Salary of the customer\r\n",
        "\r\n",
        "***Exited***- If the customer leaves or not.\r\n",
        "\r\n"
      ]
    },
    {
      "cell_type": "code",
      "metadata": {
        "id": "Mbh7viiB_D_3"
      },
      "source": [
        "## removing columns that doesnt seem to be useful for predicting churn, surname,customerid,rownumber\r\n",
        "\r\n",
        "# df.drop('column_name', axis=1{remove the column}, inplace=True(updates the current df))\r\n",
        "data.drop('Surname', axis=1,inplace=True) \r\n",
        "data.drop('CustomerId', axis=1,inplace=True)\r\n",
        "data.drop('RowNumber', axis=1, inplace=True)"
      ],
      "execution_count": null,
      "outputs": []
    },
    {
      "cell_type": "code",
      "metadata": {
        "colab": {
          "base_uri": "https://localhost:8080/",
          "height": 335
        },
        "id": "zbtJqasK_D9M",
        "outputId": "7211be09-7ca2-4e3a-cadd-de060be7342c"
      },
      "source": [
        "data.head(10)   # data after removing unwanted columns"
      ],
      "execution_count": null,
      "outputs": [
        {
          "output_type": "execute_result",
          "data": {
            "text/html": [
              "<div>\n",
              "<style scoped>\n",
              "    .dataframe tbody tr th:only-of-type {\n",
              "        vertical-align: middle;\n",
              "    }\n",
              "\n",
              "    .dataframe tbody tr th {\n",
              "        vertical-align: top;\n",
              "    }\n",
              "\n",
              "    .dataframe thead th {\n",
              "        text-align: right;\n",
              "    }\n",
              "</style>\n",
              "<table border=\"1\" class=\"dataframe\">\n",
              "  <thead>\n",
              "    <tr style=\"text-align: right;\">\n",
              "      <th></th>\n",
              "      <th>CreditScore</th>\n",
              "      <th>Geography</th>\n",
              "      <th>Gender</th>\n",
              "      <th>Age</th>\n",
              "      <th>Tenure</th>\n",
              "      <th>Balance</th>\n",
              "      <th>NumOfProducts</th>\n",
              "      <th>HasCrCard</th>\n",
              "      <th>IsActiveMember</th>\n",
              "      <th>EstimatedSalary</th>\n",
              "      <th>Exited</th>\n",
              "    </tr>\n",
              "  </thead>\n",
              "  <tbody>\n",
              "    <tr>\n",
              "      <th>0</th>\n",
              "      <td>619</td>\n",
              "      <td>France</td>\n",
              "      <td>Female</td>\n",
              "      <td>42</td>\n",
              "      <td>2</td>\n",
              "      <td>0.00</td>\n",
              "      <td>1</td>\n",
              "      <td>1</td>\n",
              "      <td>1</td>\n",
              "      <td>101348.88</td>\n",
              "      <td>1</td>\n",
              "    </tr>\n",
              "    <tr>\n",
              "      <th>1</th>\n",
              "      <td>608</td>\n",
              "      <td>Spain</td>\n",
              "      <td>Female</td>\n",
              "      <td>41</td>\n",
              "      <td>1</td>\n",
              "      <td>83807.86</td>\n",
              "      <td>1</td>\n",
              "      <td>0</td>\n",
              "      <td>1</td>\n",
              "      <td>112542.58</td>\n",
              "      <td>0</td>\n",
              "    </tr>\n",
              "    <tr>\n",
              "      <th>2</th>\n",
              "      <td>502</td>\n",
              "      <td>France</td>\n",
              "      <td>Female</td>\n",
              "      <td>42</td>\n",
              "      <td>8</td>\n",
              "      <td>159660.80</td>\n",
              "      <td>3</td>\n",
              "      <td>1</td>\n",
              "      <td>0</td>\n",
              "      <td>113931.57</td>\n",
              "      <td>1</td>\n",
              "    </tr>\n",
              "    <tr>\n",
              "      <th>3</th>\n",
              "      <td>699</td>\n",
              "      <td>France</td>\n",
              "      <td>Female</td>\n",
              "      <td>39</td>\n",
              "      <td>1</td>\n",
              "      <td>0.00</td>\n",
              "      <td>2</td>\n",
              "      <td>0</td>\n",
              "      <td>0</td>\n",
              "      <td>93826.63</td>\n",
              "      <td>0</td>\n",
              "    </tr>\n",
              "    <tr>\n",
              "      <th>4</th>\n",
              "      <td>850</td>\n",
              "      <td>Spain</td>\n",
              "      <td>Female</td>\n",
              "      <td>43</td>\n",
              "      <td>2</td>\n",
              "      <td>125510.82</td>\n",
              "      <td>1</td>\n",
              "      <td>1</td>\n",
              "      <td>1</td>\n",
              "      <td>79084.10</td>\n",
              "      <td>0</td>\n",
              "    </tr>\n",
              "    <tr>\n",
              "      <th>5</th>\n",
              "      <td>645</td>\n",
              "      <td>Spain</td>\n",
              "      <td>Male</td>\n",
              "      <td>44</td>\n",
              "      <td>8</td>\n",
              "      <td>113755.78</td>\n",
              "      <td>2</td>\n",
              "      <td>1</td>\n",
              "      <td>0</td>\n",
              "      <td>149756.71</td>\n",
              "      <td>1</td>\n",
              "    </tr>\n",
              "    <tr>\n",
              "      <th>6</th>\n",
              "      <td>822</td>\n",
              "      <td>France</td>\n",
              "      <td>Male</td>\n",
              "      <td>50</td>\n",
              "      <td>7</td>\n",
              "      <td>0.00</td>\n",
              "      <td>2</td>\n",
              "      <td>1</td>\n",
              "      <td>1</td>\n",
              "      <td>10062.80</td>\n",
              "      <td>0</td>\n",
              "    </tr>\n",
              "    <tr>\n",
              "      <th>7</th>\n",
              "      <td>376</td>\n",
              "      <td>Germany</td>\n",
              "      <td>Female</td>\n",
              "      <td>29</td>\n",
              "      <td>4</td>\n",
              "      <td>115046.74</td>\n",
              "      <td>4</td>\n",
              "      <td>1</td>\n",
              "      <td>0</td>\n",
              "      <td>119346.88</td>\n",
              "      <td>1</td>\n",
              "    </tr>\n",
              "    <tr>\n",
              "      <th>8</th>\n",
              "      <td>501</td>\n",
              "      <td>France</td>\n",
              "      <td>Male</td>\n",
              "      <td>44</td>\n",
              "      <td>4</td>\n",
              "      <td>142051.07</td>\n",
              "      <td>2</td>\n",
              "      <td>0</td>\n",
              "      <td>1</td>\n",
              "      <td>74940.50</td>\n",
              "      <td>0</td>\n",
              "    </tr>\n",
              "    <tr>\n",
              "      <th>9</th>\n",
              "      <td>684</td>\n",
              "      <td>France</td>\n",
              "      <td>Male</td>\n",
              "      <td>27</td>\n",
              "      <td>2</td>\n",
              "      <td>134603.88</td>\n",
              "      <td>1</td>\n",
              "      <td>1</td>\n",
              "      <td>1</td>\n",
              "      <td>71725.73</td>\n",
              "      <td>0</td>\n",
              "    </tr>\n",
              "  </tbody>\n",
              "</table>\n",
              "</div>"
            ],
            "text/plain": [
              "   CreditScore Geography  Gender  ...  IsActiveMember  EstimatedSalary  Exited\n",
              "0          619    France  Female  ...               1        101348.88       1\n",
              "1          608     Spain  Female  ...               1        112542.58       0\n",
              "2          502    France  Female  ...               0        113931.57       1\n",
              "3          699    France  Female  ...               0         93826.63       0\n",
              "4          850     Spain  Female  ...               1         79084.10       0\n",
              "5          645     Spain    Male  ...               0        149756.71       1\n",
              "6          822    France    Male  ...               1         10062.80       0\n",
              "7          376   Germany  Female  ...               0        119346.88       1\n",
              "8          501    France    Male  ...               1         74940.50       0\n",
              "9          684    France    Male  ...               1         71725.73       0\n",
              "\n",
              "[10 rows x 11 columns]"
            ]
          },
          "metadata": {
            "tags": []
          },
          "execution_count": 7
        }
      ]
    },
    {
      "cell_type": "markdown",
      "metadata": {
        "id": "V5P1R2ahFE4e"
      },
      "source": [
        "**Transformations (Converting Object to int )**"
      ]
    },
    {
      "cell_type": "markdown",
      "metadata": {
        "id": "iF6vdTRmQsPT"
      },
      "source": [
        "We can see out of all the columns we have 2 columns Geography and Age which are categorical. so first we will find out the unique values of them and then convert them into numbers."
      ]
    },
    {
      "cell_type": "code",
      "metadata": {
        "colab": {
          "base_uri": "https://localhost:8080/"
        },
        "id": "8f7QpMxm_D7l",
        "outputId": "570d47c3-c4da-43fb-aec0-043e05a6640c"
      },
      "source": [
        "data['Gender'].value_counts()"
      ],
      "execution_count": null,
      "outputs": [
        {
          "output_type": "execute_result",
          "data": {
            "text/plain": [
              "Male      5457\n",
              "Female    4543\n",
              "Name: Gender, dtype: int64"
            ]
          },
          "metadata": {
            "tags": []
          },
          "execution_count": 5
        }
      ]
    },
    {
      "cell_type": "markdown",
      "metadata": {
        "id": "H_H4Y9fpRBKJ"
      },
      "source": [
        "Here, Gender has only two columns , so we can easily convert into binary value of 0 and 1 where 0 means male and 1 means female."
      ]
    },
    {
      "cell_type": "code",
      "metadata": {
        "id": "8n-8F9Nk_D6H"
      },
      "source": [
        "# This will replace the occurrence oof female with 1 and male with 0 in the dataframe and will modify the current dataframe only as inplace is set to True\r\n",
        "data['Gender'].replace({'Female':1, 'Male':0}, inplace=True) "
      ],
      "execution_count": null,
      "outputs": []
    },
    {
      "cell_type": "code",
      "metadata": {
        "colab": {
          "base_uri": "https://localhost:8080/"
        },
        "id": "3Gel8PVM_D4Z",
        "outputId": "785b9aed-2a5b-492b-a676-8f38a8261fbf"
      },
      "source": [
        "data['Geography'].value_counts()"
      ],
      "execution_count": null,
      "outputs": [
        {
          "output_type": "execute_result",
          "data": {
            "text/plain": [
              "France     5014\n",
              "Germany    2509\n",
              "Spain      2477\n",
              "Name: Geography, dtype: int64"
            ]
          },
          "metadata": {
            "tags": []
          },
          "execution_count": 7
        }
      ]
    },
    {
      "cell_type": "markdown",
      "metadata": {
        "id": "WEsSck1lRkI1"
      },
      "source": [
        "For  the column Geography, we have three unique values France, Germany and Spain , so we can also simply replace them using label encoding of 0,1 and 2 where 0 is for France, 1 For Germany and 2 For Spain. Instead of using label encoding we can also use onehot encoding but as the number of unique values are only three, we can use both."
      ]
    },
    {
      "cell_type": "code",
      "metadata": {
        "id": "_L1-48Sx_D2w"
      },
      "source": [
        "# This will replace the occurrence oof France with 0, Germany with 1 and Spain with  in the dataframe and will modify the current dataframe only as inplace is set to True\r\n",
        "data['Geography'].replace({'France':0, 'Germany':1, 'Spain':2}, inplace=True)"
      ],
      "execution_count": null,
      "outputs": []
    },
    {
      "cell_type": "markdown",
      "metadata": {
        "id": "NO_GHV_HSVor"
      },
      "source": [
        "Showing data after doing some transformations"
      ]
    },
    {
      "cell_type": "code",
      "metadata": {
        "colab": {
          "base_uri": "https://localhost:8080/",
          "height": 335
        },
        "id": "gFdwpAJvAb6I",
        "outputId": "fea7084a-92af-4d73-a18a-5fbc37437805"
      },
      "source": [
        "data.head(10)"
      ],
      "execution_count": null,
      "outputs": [
        {
          "output_type": "execute_result",
          "data": {
            "text/html": [
              "<div>\n",
              "<style scoped>\n",
              "    .dataframe tbody tr th:only-of-type {\n",
              "        vertical-align: middle;\n",
              "    }\n",
              "\n",
              "    .dataframe tbody tr th {\n",
              "        vertical-align: top;\n",
              "    }\n",
              "\n",
              "    .dataframe thead th {\n",
              "        text-align: right;\n",
              "    }\n",
              "</style>\n",
              "<table border=\"1\" class=\"dataframe\">\n",
              "  <thead>\n",
              "    <tr style=\"text-align: right;\">\n",
              "      <th></th>\n",
              "      <th>CreditScore</th>\n",
              "      <th>Geography</th>\n",
              "      <th>Gender</th>\n",
              "      <th>Age</th>\n",
              "      <th>Tenure</th>\n",
              "      <th>Balance</th>\n",
              "      <th>NumOfProducts</th>\n",
              "      <th>HasCrCard</th>\n",
              "      <th>IsActiveMember</th>\n",
              "      <th>EstimatedSalary</th>\n",
              "      <th>Exited</th>\n",
              "    </tr>\n",
              "  </thead>\n",
              "  <tbody>\n",
              "    <tr>\n",
              "      <th>0</th>\n",
              "      <td>619</td>\n",
              "      <td>0</td>\n",
              "      <td>1</td>\n",
              "      <td>42</td>\n",
              "      <td>2</td>\n",
              "      <td>0.00</td>\n",
              "      <td>1</td>\n",
              "      <td>1</td>\n",
              "      <td>1</td>\n",
              "      <td>101348.88</td>\n",
              "      <td>1</td>\n",
              "    </tr>\n",
              "    <tr>\n",
              "      <th>1</th>\n",
              "      <td>608</td>\n",
              "      <td>2</td>\n",
              "      <td>1</td>\n",
              "      <td>41</td>\n",
              "      <td>1</td>\n",
              "      <td>83807.86</td>\n",
              "      <td>1</td>\n",
              "      <td>0</td>\n",
              "      <td>1</td>\n",
              "      <td>112542.58</td>\n",
              "      <td>0</td>\n",
              "    </tr>\n",
              "    <tr>\n",
              "      <th>2</th>\n",
              "      <td>502</td>\n",
              "      <td>0</td>\n",
              "      <td>1</td>\n",
              "      <td>42</td>\n",
              "      <td>8</td>\n",
              "      <td>159660.80</td>\n",
              "      <td>3</td>\n",
              "      <td>1</td>\n",
              "      <td>0</td>\n",
              "      <td>113931.57</td>\n",
              "      <td>1</td>\n",
              "    </tr>\n",
              "    <tr>\n",
              "      <th>3</th>\n",
              "      <td>699</td>\n",
              "      <td>0</td>\n",
              "      <td>1</td>\n",
              "      <td>39</td>\n",
              "      <td>1</td>\n",
              "      <td>0.00</td>\n",
              "      <td>2</td>\n",
              "      <td>0</td>\n",
              "      <td>0</td>\n",
              "      <td>93826.63</td>\n",
              "      <td>0</td>\n",
              "    </tr>\n",
              "    <tr>\n",
              "      <th>4</th>\n",
              "      <td>850</td>\n",
              "      <td>2</td>\n",
              "      <td>1</td>\n",
              "      <td>43</td>\n",
              "      <td>2</td>\n",
              "      <td>125510.82</td>\n",
              "      <td>1</td>\n",
              "      <td>1</td>\n",
              "      <td>1</td>\n",
              "      <td>79084.10</td>\n",
              "      <td>0</td>\n",
              "    </tr>\n",
              "    <tr>\n",
              "      <th>5</th>\n",
              "      <td>645</td>\n",
              "      <td>2</td>\n",
              "      <td>0</td>\n",
              "      <td>44</td>\n",
              "      <td>8</td>\n",
              "      <td>113755.78</td>\n",
              "      <td>2</td>\n",
              "      <td>1</td>\n",
              "      <td>0</td>\n",
              "      <td>149756.71</td>\n",
              "      <td>1</td>\n",
              "    </tr>\n",
              "    <tr>\n",
              "      <th>6</th>\n",
              "      <td>822</td>\n",
              "      <td>0</td>\n",
              "      <td>0</td>\n",
              "      <td>50</td>\n",
              "      <td>7</td>\n",
              "      <td>0.00</td>\n",
              "      <td>2</td>\n",
              "      <td>1</td>\n",
              "      <td>1</td>\n",
              "      <td>10062.80</td>\n",
              "      <td>0</td>\n",
              "    </tr>\n",
              "    <tr>\n",
              "      <th>7</th>\n",
              "      <td>376</td>\n",
              "      <td>1</td>\n",
              "      <td>1</td>\n",
              "      <td>29</td>\n",
              "      <td>4</td>\n",
              "      <td>115046.74</td>\n",
              "      <td>4</td>\n",
              "      <td>1</td>\n",
              "      <td>0</td>\n",
              "      <td>119346.88</td>\n",
              "      <td>1</td>\n",
              "    </tr>\n",
              "    <tr>\n",
              "      <th>8</th>\n",
              "      <td>501</td>\n",
              "      <td>0</td>\n",
              "      <td>0</td>\n",
              "      <td>44</td>\n",
              "      <td>4</td>\n",
              "      <td>142051.07</td>\n",
              "      <td>2</td>\n",
              "      <td>0</td>\n",
              "      <td>1</td>\n",
              "      <td>74940.50</td>\n",
              "      <td>0</td>\n",
              "    </tr>\n",
              "    <tr>\n",
              "      <th>9</th>\n",
              "      <td>684</td>\n",
              "      <td>0</td>\n",
              "      <td>0</td>\n",
              "      <td>27</td>\n",
              "      <td>2</td>\n",
              "      <td>134603.88</td>\n",
              "      <td>1</td>\n",
              "      <td>1</td>\n",
              "      <td>1</td>\n",
              "      <td>71725.73</td>\n",
              "      <td>0</td>\n",
              "    </tr>\n",
              "  </tbody>\n",
              "</table>\n",
              "</div>"
            ],
            "text/plain": [
              "   CreditScore  Geography  Gender  ...  IsActiveMember  EstimatedSalary  Exited\n",
              "0          619          0       1  ...               1        101348.88       1\n",
              "1          608          2       1  ...               1        112542.58       0\n",
              "2          502          0       1  ...               0        113931.57       1\n",
              "3          699          0       1  ...               0         93826.63       0\n",
              "4          850          2       1  ...               1         79084.10       0\n",
              "5          645          2       0  ...               0        149756.71       1\n",
              "6          822          0       0  ...               1         10062.80       0\n",
              "7          376          1       1  ...               0        119346.88       1\n",
              "8          501          0       0  ...               1         74940.50       0\n",
              "9          684          0       0  ...               1         71725.73       0\n",
              "\n",
              "[10 rows x 11 columns]"
            ]
          },
          "metadata": {
            "tags": []
          },
          "execution_count": 10
        }
      ]
    },
    {
      "cell_type": "markdown",
      "metadata": {
        "id": "k7XrHT5eSqdy"
      },
      "source": [
        "**Adding One Feature**"
      ]
    },
    {
      "cell_type": "markdown",
      "metadata": {
        "id": "1k1LhEIsSefx"
      },
      "source": [
        "By looking at the columns, i came up with a new feature that is (Balance-EstimatedSalary) which can be thought of if my salary is less then the balance i may want to leave. Later we can see how good/bad this feature can be."
      ]
    },
    {
      "cell_type": "code",
      "metadata": {
        "id": "iXre-t2XBWSZ"
      },
      "source": [
        "# data['Balance_Minus_EstimatedSalary'] = data['Balance']-data['EstimatedSalary']\r\n",
        "# #isoverspending-0 and 1\r\n",
        "data['isOverSpending'] = data['Balance']>data['EstimatedSalary']"
      ],
      "execution_count": null,
      "outputs": []
    },
    {
      "cell_type": "code",
      "metadata": {
        "colab": {
          "base_uri": "https://localhost:8080/",
          "height": 347
        },
        "id": "jUf57V-G_e2O",
        "outputId": "8af2b7cb-dff0-4354-8a6a-d927c423d458"
      },
      "source": [
        "data.head(10)"
      ],
      "execution_count": null,
      "outputs": [
        {
          "output_type": "execute_result",
          "data": {
            "text/html": [
              "<div>\n",
              "<style scoped>\n",
              "    .dataframe tbody tr th:only-of-type {\n",
              "        vertical-align: middle;\n",
              "    }\n",
              "\n",
              "    .dataframe tbody tr th {\n",
              "        vertical-align: top;\n",
              "    }\n",
              "\n",
              "    .dataframe thead th {\n",
              "        text-align: right;\n",
              "    }\n",
              "</style>\n",
              "<table border=\"1\" class=\"dataframe\">\n",
              "  <thead>\n",
              "    <tr style=\"text-align: right;\">\n",
              "      <th></th>\n",
              "      <th>CreditScore</th>\n",
              "      <th>Geography</th>\n",
              "      <th>Gender</th>\n",
              "      <th>Age</th>\n",
              "      <th>Tenure</th>\n",
              "      <th>Balance</th>\n",
              "      <th>NumOfProducts</th>\n",
              "      <th>HasCrCard</th>\n",
              "      <th>IsActiveMember</th>\n",
              "      <th>EstimatedSalary</th>\n",
              "      <th>Exited</th>\n",
              "      <th>isOverSpending</th>\n",
              "    </tr>\n",
              "  </thead>\n",
              "  <tbody>\n",
              "    <tr>\n",
              "      <th>0</th>\n",
              "      <td>619</td>\n",
              "      <td>0</td>\n",
              "      <td>1</td>\n",
              "      <td>42</td>\n",
              "      <td>2</td>\n",
              "      <td>0.00</td>\n",
              "      <td>1</td>\n",
              "      <td>1</td>\n",
              "      <td>1</td>\n",
              "      <td>101348.88</td>\n",
              "      <td>1</td>\n",
              "      <td>False</td>\n",
              "    </tr>\n",
              "    <tr>\n",
              "      <th>1</th>\n",
              "      <td>608</td>\n",
              "      <td>2</td>\n",
              "      <td>1</td>\n",
              "      <td>41</td>\n",
              "      <td>1</td>\n",
              "      <td>83807.86</td>\n",
              "      <td>1</td>\n",
              "      <td>0</td>\n",
              "      <td>1</td>\n",
              "      <td>112542.58</td>\n",
              "      <td>0</td>\n",
              "      <td>False</td>\n",
              "    </tr>\n",
              "    <tr>\n",
              "      <th>2</th>\n",
              "      <td>502</td>\n",
              "      <td>0</td>\n",
              "      <td>1</td>\n",
              "      <td>42</td>\n",
              "      <td>8</td>\n",
              "      <td>159660.80</td>\n",
              "      <td>3</td>\n",
              "      <td>1</td>\n",
              "      <td>0</td>\n",
              "      <td>113931.57</td>\n",
              "      <td>1</td>\n",
              "      <td>True</td>\n",
              "    </tr>\n",
              "    <tr>\n",
              "      <th>3</th>\n",
              "      <td>699</td>\n",
              "      <td>0</td>\n",
              "      <td>1</td>\n",
              "      <td>39</td>\n",
              "      <td>1</td>\n",
              "      <td>0.00</td>\n",
              "      <td>2</td>\n",
              "      <td>0</td>\n",
              "      <td>0</td>\n",
              "      <td>93826.63</td>\n",
              "      <td>0</td>\n",
              "      <td>False</td>\n",
              "    </tr>\n",
              "    <tr>\n",
              "      <th>4</th>\n",
              "      <td>850</td>\n",
              "      <td>2</td>\n",
              "      <td>1</td>\n",
              "      <td>43</td>\n",
              "      <td>2</td>\n",
              "      <td>125510.82</td>\n",
              "      <td>1</td>\n",
              "      <td>1</td>\n",
              "      <td>1</td>\n",
              "      <td>79084.10</td>\n",
              "      <td>0</td>\n",
              "      <td>True</td>\n",
              "    </tr>\n",
              "    <tr>\n",
              "      <th>5</th>\n",
              "      <td>645</td>\n",
              "      <td>2</td>\n",
              "      <td>0</td>\n",
              "      <td>44</td>\n",
              "      <td>8</td>\n",
              "      <td>113755.78</td>\n",
              "      <td>2</td>\n",
              "      <td>1</td>\n",
              "      <td>0</td>\n",
              "      <td>149756.71</td>\n",
              "      <td>1</td>\n",
              "      <td>False</td>\n",
              "    </tr>\n",
              "    <tr>\n",
              "      <th>6</th>\n",
              "      <td>822</td>\n",
              "      <td>0</td>\n",
              "      <td>0</td>\n",
              "      <td>50</td>\n",
              "      <td>7</td>\n",
              "      <td>0.00</td>\n",
              "      <td>2</td>\n",
              "      <td>1</td>\n",
              "      <td>1</td>\n",
              "      <td>10062.80</td>\n",
              "      <td>0</td>\n",
              "      <td>False</td>\n",
              "    </tr>\n",
              "    <tr>\n",
              "      <th>7</th>\n",
              "      <td>376</td>\n",
              "      <td>1</td>\n",
              "      <td>1</td>\n",
              "      <td>29</td>\n",
              "      <td>4</td>\n",
              "      <td>115046.74</td>\n",
              "      <td>4</td>\n",
              "      <td>1</td>\n",
              "      <td>0</td>\n",
              "      <td>119346.88</td>\n",
              "      <td>1</td>\n",
              "      <td>False</td>\n",
              "    </tr>\n",
              "    <tr>\n",
              "      <th>8</th>\n",
              "      <td>501</td>\n",
              "      <td>0</td>\n",
              "      <td>0</td>\n",
              "      <td>44</td>\n",
              "      <td>4</td>\n",
              "      <td>142051.07</td>\n",
              "      <td>2</td>\n",
              "      <td>0</td>\n",
              "      <td>1</td>\n",
              "      <td>74940.50</td>\n",
              "      <td>0</td>\n",
              "      <td>True</td>\n",
              "    </tr>\n",
              "    <tr>\n",
              "      <th>9</th>\n",
              "      <td>684</td>\n",
              "      <td>0</td>\n",
              "      <td>0</td>\n",
              "      <td>27</td>\n",
              "      <td>2</td>\n",
              "      <td>134603.88</td>\n",
              "      <td>1</td>\n",
              "      <td>1</td>\n",
              "      <td>1</td>\n",
              "      <td>71725.73</td>\n",
              "      <td>0</td>\n",
              "      <td>True</td>\n",
              "    </tr>\n",
              "  </tbody>\n",
              "</table>\n",
              "</div>"
            ],
            "text/plain": [
              "   CreditScore  Geography  Gender  ...  EstimatedSalary  Exited  isOverSpending\n",
              "0          619          0       1  ...        101348.88       1           False\n",
              "1          608          2       1  ...        112542.58       0           False\n",
              "2          502          0       1  ...        113931.57       1            True\n",
              "3          699          0       1  ...         93826.63       0           False\n",
              "4          850          2       1  ...         79084.10       0            True\n",
              "5          645          2       0  ...        149756.71       1           False\n",
              "6          822          0       0  ...         10062.80       0           False\n",
              "7          376          1       1  ...        119346.88       1           False\n",
              "8          501          0       0  ...         74940.50       0            True\n",
              "9          684          0       0  ...         71725.73       0            True\n",
              "\n",
              "[10 rows x 12 columns]"
            ]
          },
          "metadata": {
            "tags": []
          },
          "execution_count": 9
        }
      ]
    },
    {
      "cell_type": "code",
      "metadata": {
        "colab": {
          "base_uri": "https://localhost:8080/"
        },
        "id": "qrnfItnV_hy1",
        "outputId": "a352d9ce-f855-4012-dbb4-25dcfd4921e8"
      },
      "source": [
        "x = dict(data['isOverSpending'].value_counts())\r\n",
        "print(x)"
      ],
      "execution_count": null,
      "outputs": [
        {
          "output_type": "stream",
          "text": [
            "{False: 6206, True: 3794}\n"
          ],
          "name": "stdout"
        }
      ]
    },
    {
      "cell_type": "code",
      "metadata": {
        "id": "QC1XJAYUvc4e"
      },
      "source": [
        "data['isOverSpending'].replace({False:0,True:1}, inplace=True)"
      ],
      "execution_count": null,
      "outputs": []
    },
    {
      "cell_type": "code",
      "metadata": {
        "id": "UmJKglnf_7Kk"
      },
      "source": [
        "def calculate_percentage(data,target_col,current_col):\r\n",
        "  value_cnts = dict(data[current_col].value_counts())\r\n",
        "  for key, value in value_cnts.items():\r\n",
        "    exited_cnt = data[(data[current_col]==key) & (data[target_col]==1)].shape[0]\r\n",
        "    percent = (exited_cnt/value)*100\r\n",
        "    print(f\" {current_col} for value {key} percent of people exited {percent}\")\r\n",
        "\r\n",
        "\r\n"
      ],
      "execution_count": null,
      "outputs": []
    },
    {
      "cell_type": "markdown",
      "metadata": {
        "id": "_yOrkCbsH30X"
      },
      "source": [
        "**Answering Some Statistical Questions based on Age Groups**"
      ]
    },
    {
      "cell_type": "markdown",
      "metadata": {
        "id": "U0GXGb0XH-pa"
      },
      "source": [
        "1) Which age group of people have highest churn percentage?\r\n",
        "\r\n",
        "2) Out of the age Group which have highest churn prediction how many of them are male or female?\r\n",
        "\r\n",
        "3) Out of the age Group which have highest churn prediction, what is the percentage per country.\r\n"
      ]
    },
    {
      "cell_type": "code",
      "metadata": {
        "colab": {
          "base_uri": "https://localhost:8080/"
        },
        "id": "lKYvVketIkzT",
        "outputId": "b42db2c3-961c-4171-f799-052c27c2b639"
      },
      "source": [
        "calculate_percentage(data, 'Exited', 'AgeGroup')"
      ],
      "execution_count": null,
      "outputs": [
        {
          "output_type": "stream",
          "text": [
            " AgeGroup for value 30-39 percent of people exited 10.883571099861943\n",
            " AgeGroup for value 40-49 percent of people exited 30.786860198624904\n",
            " AgeGroup for value 20-29 percent of people exited 7.600502512562814\n",
            " AgeGroup for value 50-59 percent of people exited 56.04142692750288\n",
            " AgeGroup for value 60-69 percent of people exited 35.199999999999996\n",
            " AgeGroup for value 70-79 percent of people exited 10.294117647058822\n",
            " AgeGroup for value 10-19 percent of people exited 6.122448979591836\n",
            " AgeGroup for value 80-89 percent of people exited 7.6923076923076925\n",
            " AgeGroup for value 90-99 percent of people exited 0.0\n",
            " AgeGroup for value 0-9 percent of people exited nan\n"
          ],
          "name": "stdout"
        }
      ]
    },
    {
      "cell_type": "markdown",
      "metadata": {
        "id": "1OdnlsUFIyWs"
      },
      "source": [
        "**ANSWER 1--** We can see that maximum churned are in the age group of [50-59] with churn percentage of 56% then followed by [60-69] with 35 % churn rate."
      ]
    },
    {
      "cell_type": "markdown",
      "metadata": {
        "id": "l5ytSqbiKmfA"
      },
      "source": [
        "Now we will answer our 2nd question i.e. **Out of the age Group which have highest churn prediction how many of them are male or female?**"
      ]
    },
    {
      "cell_type": "code",
      "metadata": {
        "colab": {
          "base_uri": "https://localhost:8080/"
        },
        "id": "zlPave_PIuI9",
        "outputId": "97275ac7-ce5d-4223-f3f7-856cb9da9a44"
      },
      "source": [
        "total_customers_in_age_group_50_59 = data[(data['AgeGroup']=='50-59') & (data['Exited']==1)].shape[0]\r\n",
        "male_in_age_group_50_59 =  data[(data['AgeGroup']=='50-59') & (data['Exited']==1) & (data['Gender']==0)].shape[0]\r\n",
        "male_percentage = (male_in_age_group_50_59/total_customers_in_age_group_50_59)*100\r\n",
        "female_percentage = 100-male_percentage\r\n",
        "print(male_percentage)\r\n",
        "print(female_percentage)"
      ],
      "execution_count": null,
      "outputs": [
        {
          "output_type": "stream",
          "text": [
            "487\n",
            "45.58521560574948\n",
            "54.41478439425052\n"
          ],
          "name": "stdout"
        }
      ]
    },
    {
      "cell_type": "markdown",
      "metadata": {
        "id": "PeYp_ZZ8KwuT"
      },
      "source": [
        "**ANSWER 2--**We see that for the age group [50-59] which have maximun churn prediction we have 45% of male and 55% of female from this. We can say that more females are leaving the company of this age group."
      ]
    },
    {
      "cell_type": "markdown",
      "metadata": {
        "id": "BvJP5Qe5LQvv"
      },
      "source": [
        "Now we will ty to answer our third question i.e . **Out of the age Group which have highest churn prediction, what is the percentage per country**"
      ]
    },
    {
      "cell_type": "code",
      "metadata": {
        "colab": {
          "base_uri": "https://localhost:8080/"
        },
        "id": "t2oxa053LciX",
        "outputId": "7050d14e-4d58-42e4-abb2-06526585ff00"
      },
      "source": [
        "total_customers_in_age_group_50_59 = data[(data['AgeGroup']=='50-59') & (data['Exited']==1)].shape[0]\r\n",
        "value_cnts = dict(data['Geography'].value_counts())\r\n",
        "for key, value in value_cnts.items():\r\n",
        "  val =  data[(data['AgeGroup']=='50-59') & (data['Exited']==1) & (data['Geography']==key)].shape[0]\r\n",
        "  percent = (val/total_customers_in_age_group_50_59)*100\r\n",
        "  country=''\r\n",
        "  if key ==0:\r\n",
        "    country='France'\r\n",
        "  elif key == 1:\r\n",
        "    country = 'Germany'\r\n",
        "  else:\r\n",
        "    country = 'Spain'\r\n",
        "  print(f\"In {country} {percent} of people are leaving from age group 50-59\")\r\n"
      ],
      "execution_count": null,
      "outputs": [
        {
          "output_type": "stream",
          "text": [
            "In France 40.4517453798768 of people are leaving from age group 50-59\n",
            "In Germany 39.83572895277207 of people are leaving from age group 50-59\n",
            "In Spain 19.71252566735113 of people are leaving from age group 50-59\n"
          ],
          "name": "stdout"
        }
      ]
    },
    {
      "cell_type": "markdown",
      "metadata": {
        "id": "vDX9lLDSMw3x"
      },
      "source": [
        "**ANSWER 3**-- For the age group [50-59] which have maximum churn prediction, most of them are from France with 40% and then from germany with 39% then lastly from spain with 19%"
      ]
    },
    {
      "cell_type": "markdown",
      "metadata": {
        "id": "dLjzIyzkPp_Q"
      },
      "source": [
        "**Answering Some Statistical Questions based on Geography**\r\n",
        "\r\n",
        "\r\n",
        "---\r\n",
        "\r\n",
        "\r\n",
        "1) what are the percentage churn in each geogrophical location?\r\n",
        "\r\n",
        "2) Out of the percentage churn in each location how many of them are male and female."
      ]
    },
    {
      "cell_type": "code",
      "metadata": {
        "colab": {
          "base_uri": "https://localhost:8080/"
        },
        "id": "OKtMczsVP6i5",
        "outputId": "d8041dde-b082-48b3-cff1-62eaeecb1f06"
      },
      "source": [
        "# percentage churn in each geogrophical location\r\n",
        "calculate_percentage(data,'Exited','Geography')"
      ],
      "execution_count": null,
      "outputs": [
        {
          "output_type": "stream",
          "text": [
            " Geography for value 0 percent of people exited 16.15476665337056\n",
            " Geography for value 1 percent of people exited 32.44320446392985\n",
            " Geography for value 2 percent of people exited 16.673395236172787\n"
          ],
          "name": "stdout"
        }
      ]
    },
    {
      "cell_type": "markdown",
      "metadata": {
        "id": "gZdKxHtrRlDu"
      },
      "source": [
        "**ANSWER 4**-- We can see that For Germany we have maximum churn percentage of 32% follwed by spain and france"
      ]
    },
    {
      "cell_type": "markdown",
      "metadata": {
        "id": "4EIM_wiAR9FJ"
      },
      "source": [
        "Now we will check out of customers churned in germany how many of thwm are male and how many are female."
      ]
    },
    {
      "cell_type": "code",
      "metadata": {
        "colab": {
          "base_uri": "https://localhost:8080/"
        },
        "id": "zyztJ41zSGuE",
        "outputId": "6498f5e0-ad48-4e72-bbe7-bc80d6271db6"
      },
      "source": [
        "value_cnts = dict(data['Gender'].value_counts())\r\n",
        "for key, value in value_cnts.items():\r\n",
        "  total = data[(data['Geography']==1) & (data['Exited']==1)].shape[0]\r\n",
        "  val =  data[(data['Geography']==1) & (data['Exited']==1) & (data['Gender']==key)].shape[0]\r\n",
        "  percent = (val/total)*100\r\n",
        "  gender=\"\"\r\n",
        "  if key==0:\r\n",
        "    gender=\"Male\"\r\n",
        "  else:\r\n",
        "    gender=\"Female\"\r\n",
        "  print(f\" From Germany percent of {gender} churned is {percent}\")"
      ],
      "execution_count": null,
      "outputs": [
        {
          "output_type": "stream",
          "text": [
            " From Germany percent of Male churned is 44.96314496314496\n",
            " From Germany percent of Female churned is 55.03685503685504\n"
          ],
          "name": "stdout"
        }
      ]
    },
    {
      "cell_type": "markdown",
      "metadata": {
        "id": "LfYRHDmrTHR_"
      },
      "source": [
        "**ANSWER 5**-- IN Germany which have maximum churned percentage , 45% of them are male and 55% of them are female."
      ]
    },
    {
      "cell_type": "code",
      "metadata": {
        "id": "JStslk6uBgk1"
      },
      "source": [
        "def univariate_plot(data,target_col,current_col):\r\n",
        "  '''\r\n",
        "     This is wrapper method for univariate plots. It takes three arguments:\r\n",
        "        1) DataFrame\r\n",
        "        2) The Target Column Name (Exited in this case)\r\n",
        "        3) The Column name for which we want to plot. (All other features except the target varaible)\r\n",
        "    \r\n",
        "    Using the target col it divides the df into two parts for example Customer who have churned and customers not churned and plot ir counts against the \r\n",
        "    values of the provided current column (Like Tenure,Age etc..)\r\n",
        "\r\n",
        "    Example Usage--> univariate_plot(data,'Exited','Tenure')\r\n",
        "\r\n",
        "  \r\n",
        "  '''\r\n",
        "  target_1 = data[data[target_col]==1][current_col]\r\n",
        "  target_0 =  data[data[target_col]==0][current_col]\r\n",
        "\r\n",
        "  plt.xlabel(f\"{current_col}\")\r\n",
        "  plt.ylabel(\"Number Of Customers\")\r\n",
        "  plt.title(\"Customer Churn Prediction Visualiztion\")\r\n",
        "  plt.hist([target_1, target_0], color =['red', 'green'], label=['Exited', 'Not Exited'])\r\n",
        "  plt.legend()"
      ],
      "execution_count": null,
      "outputs": []
    },
    {
      "cell_type": "markdown",
      "metadata": {
        "id": "xz5NFDrLUGHA"
      },
      "source": [
        "**Univariate Analysis Of All Features**"
      ]
    },
    {
      "cell_type": "code",
      "metadata": {
        "colab": {
          "base_uri": "https://localhost:8080/",
          "height": 295
        },
        "id": "qf3XSjEV_reP",
        "outputId": "9c274596-c2f7-456d-bf5e-a75f648833b3"
      },
      "source": [
        "#Tenure\r\n",
        "univariate_plot(data,'Exited','isOverSpending')"
      ],
      "execution_count": null,
      "outputs": [
        {
          "output_type": "display_data",
          "data": {
            "image/png": "[encoded data removed]",
            "text/plain": [
              "<Figure size 432x288 with 1 Axes>"
            ]
          },
          "metadata": {
            "tags": [],
            "needs_background": "light"
          }
        }
      ]
    },
    {
      "cell_type": "code",
      "metadata": {
        "colab": {
          "base_uri": "https://localhost:8080/",
          "height": 294
        },
        "id": "gWQHUqd9CrjG",
        "outputId": "518d1473-79ba-4dd3-995d-64d55f4e4ed5"
      },
      "source": [
        "#Tenure\r\n",
        "univariate_plot(data,'Exited','Tenure')"
      ],
      "execution_count": null,
      "outputs": [
        {
          "output_type": "display_data",
          "data": {
            "image/png": "[encoded data removed]",
            "text/plain": [
              "<Figure size 432x288 with 1 Axes>"
            ]
          },
          "metadata": {
            "tags": [],
            "needs_background": "light"
          }
        }
      ]
    },
    {
      "cell_type": "markdown",
      "metadata": {
        "id": "kV8MecGhWtab"
      },
      "source": [
        "By looking at Plot we can say that the maximum people are leaving if they have a tenure of around 10 years which is the maximum number of tenures, so the case would be that as they are so old, company is not looking after them instead they are looking to generate new customers. so Company can provide some benefits for the customers who are actually from a long time with the company to retain them."
      ]
    },
    {
      "cell_type": "code",
      "metadata": {
        "colab": {
          "base_uri": "https://localhost:8080/",
          "height": 294
        },
        "id": "ShMyw_m9Fa30",
        "outputId": "7014a826-a7ed-4b82-8ce2-1e03dcd7c2e7"
      },
      "source": [
        "#IsActiveMember\r\n",
        "univariate_plot(data,'Exited','IsActiveMember')"
      ],
      "execution_count": null,
      "outputs": [
        {
          "output_type": "display_data",
          "data": {
            "image/png": "[encoded data removed]",
            "text/plain": [
              "<Figure size 432x288 with 1 Axes>"
            ]
          },
          "metadata": {
            "tags": [],
            "needs_background": "light"
          }
        }
      ]
    },
    {
      "cell_type": "markdown",
      "metadata": {
        "id": "Mp5FWYXM8KIZ"
      },
      "source": [
        "This is actually very clear and predictable, the customers who are not very active are leaving more in comparison to the customers who are active. So, company can take a step to make peoples active by continously providing some beneifts so that customers ar eactively using the services and hence churn will be less."
      ]
    },
    {
      "cell_type": "code",
      "metadata": {
        "colab": {
          "base_uri": "https://localhost:8080/",
          "height": 294
        },
        "id": "In3gP7IRFb5z",
        "outputId": "429939bc-5be0-49eb-c816-10ffe4827793"
      },
      "source": [
        "#CreditScore\r\n",
        "univariate_plot(data,'Exited','CreditScore')"
      ],
      "execution_count": null,
      "outputs": [
        {
          "output_type": "display_data",
          "data": {
            "image/png": "[encoded data removed]",
            "text/plain": [
              "<Figure size 432x288 with 1 Axes>"
            ]
          },
          "metadata": {
            "tags": [],
            "needs_background": "light"
          }
        }
      ]
    },
    {
      "cell_type": "markdown",
      "metadata": {
        "id": "QAjGwFrNF24S"
      },
      "source": [
        "Most Of the customers with a credit score in the range [600-700] are leaving. Not much can be deduced. This may not be  very useful for predicting churn "
      ]
    },
    {
      "cell_type": "code",
      "metadata": {
        "colab": {
          "base_uri": "https://localhost:8080/",
          "height": 294
        },
        "id": "4157deeaFct2",
        "outputId": "774cc5aa-dc7d-4de6-a0a2-250ab415da10"
      },
      "source": [
        "univariate_plot(data,'Exited','EstimatedSalary')"
      ],
      "execution_count": null,
      "outputs": [
        {
          "output_type": "display_data",
          "data": {
            "image/png": "[encoded data removed]",
            "text/plain": [
              "<Figure size 432x288 with 1 Axes>"
            ]
          },
          "metadata": {
            "tags": [],
            "needs_background": "light"
          }
        }
      ]
    },
    {
      "cell_type": "markdown",
      "metadata": {
        "id": "n9Ly1a9LGh17"
      },
      "source": [
        "From the above plot we can see that for almost all estimated salaries , number of customers churning is almost same."
      ]
    },
    {
      "cell_type": "code",
      "metadata": {
        "colab": {
          "base_uri": "https://localhost:8080/",
          "height": 294
        },
        "id": "0VEZbT1MFcq1",
        "outputId": "dc4c15aa-cdb2-4d9f-ab92-30f307efc337"
      },
      "source": [
        "univariate_plot(data,'Exited','NumOfProducts')"
      ],
      "execution_count": null,
      "outputs": [
        {
          "output_type": "display_data",
          "data": {
            "image/png": "[encoded data removed]",
            "text/plain": [
              "<Figure size 432x288 with 1 Axes>"
            ]
          },
          "metadata": {
            "tags": [],
            "needs_background": "light"
          }
        }
      ]
    },
    {
      "cell_type": "markdown",
      "metadata": {
        "id": "ZmjBpQ5IHF--"
      },
      "source": [
        "We can see from the above plot that the customers that are using only one product of the company then the churn ratio is  very high in compare of cusomters who are using more than 1 products. An intution can be made that company should encourage their customers for using more services or  products to reduce churn rate."
      ]
    },
    {
      "cell_type": "code",
      "metadata": {
        "colab": {
          "base_uri": "https://localhost:8080/",
          "height": 294
        },
        "id": "KBQTBA59FeId",
        "outputId": "87a19c67-766f-4bfe-af91-4cb1d8d9cabf"
      },
      "source": [
        "univariate_plot(data,'Exited','HasCrCard')"
      ],
      "execution_count": null,
      "outputs": [
        {
          "output_type": "display_data",
          "data": {
            "image/png": "[encoded data removed]",
            "text/plain": [
              "<Figure size 432x288 with 1 Axes>"
            ]
          },
          "metadata": {
            "tags": [],
            "needs_background": "light"
          }
        }
      ]
    },
    {
      "cell_type": "markdown",
      "metadata": {
        "id": "eo1x2rV0IIid"
      },
      "source": [
        "This plot shows if a cusotmers has credit card or not vs the number of customers leaving/not leaving. We can see more number of people are leaving if they have credit card which might be possible that the interest on credit card charged by the bank is very high and not affordable due to which they are leaving."
      ]
    },
    {
      "cell_type": "code",
      "metadata": {
        "colab": {
          "base_uri": "https://localhost:8080/",
          "height": 294
        },
        "id": "s8Pay_f7Fezz",
        "outputId": "9b74722e-8290-427e-d630-651eae2b6ca4"
      },
      "source": [
        "univariate_plot(data,'Exited','Age')"
      ],
      "execution_count": null,
      "outputs": [
        {
          "output_type": "display_data",
          "data": {
            "image/png": "[encoded data removed]",
            "text/plain": [
              "<Figure size 432x288 with 1 Axes>"
            ]
          },
          "metadata": {
            "tags": [],
            "needs_background": "light"
          }
        }
      ]
    },
    {
      "cell_type": "markdown",
      "metadata": {
        "id": "XyeASivWJOfp"
      },
      "source": [
        "This plot shows the age of customers vs number of customers leaving/not leaving.\r\n",
        "By looking at the plot we can see that the customers with age in the range of [30-50] have high churn ratio. It may be possible that company is not satisfying needs particular to these age groups, so they are leaving. One solution could be that bank/company can start some services/benefits that directly benefit these age group which can help to reduce their churn ratio."
      ]
    },
    {
      "cell_type": "code",
      "metadata": {
        "colab": {
          "base_uri": "https://localhost:8080/",
          "height": 294
        },
        "id": "bFAm-f5TFfaC",
        "outputId": "3d02e803-8e1d-4586-b588-bf030470c192"
      },
      "source": [
        "univariate_plot(data,'Exited','Geography')"
      ],
      "execution_count": null,
      "outputs": [
        {
          "output_type": "display_data",
          "data": {
            "image/png": "[encoded data removed]",
            "text/plain": [
              "<Figure size 432x288 with 1 Axes>"
            ]
          },
          "metadata": {
            "tags": [],
            "needs_background": "light"
          }
        }
      ]
    },
    {
      "cell_type": "markdown",
      "metadata": {
        "id": "2d-c4DLQKzBi"
      },
      "source": [
        "This plot shows the  number of customers leaving/not leaving of a particular location. By looking at the plot we can say that most number of customers are leaving from Germany(1) and ,east from spain(2). So it might be the case the company's service in germany is very bad, customer support or sort of like that, so the company can work on improving their services in germany and France to reduce churn rates in these locations."
      ]
    },
    {
      "cell_type": "code",
      "metadata": {
        "colab": {
          "base_uri": "https://localhost:8080/",
          "height": 295
        },
        "id": "1YrEY_pWFgEq",
        "outputId": "f5b703ce-aa7a-4c1c-b609-43e2ca23f15d"
      },
      "source": [
        "univariate_plot(data,'Exited','Balance_Minus_EstimatedSalary')"
      ],
      "execution_count": null,
      "outputs": [
        {
          "output_type": "display_data",
          "data": {
            "image/png": "[encoded data removed]",
            "text/plain": [
              "<Figure size 432x288 with 1 Axes>"
            ]
          },
          "metadata": {
            "tags": [],
            "needs_background": "light"
          }
        }
      ]
    },
    {
      "cell_type": "code",
      "metadata": {
        "colab": {
          "base_uri": "https://localhost:8080/",
          "height": 294
        },
        "id": "SD5zGv4SFgsg",
        "outputId": "496f842c-1b35-4715-9148-12c36fb7401d"
      },
      "source": [
        "univariate_plot(data,'Exited','Gender')"
      ],
      "execution_count": null,
      "outputs": [
        {
          "output_type": "display_data",
          "data": {
            "image/png": "[encoded data removed]",
            "text/plain": [
              "<Figure size 432x288 with 1 Axes>"
            ]
          },
          "metadata": {
            "tags": [],
            "needs_background": "light"
          }
        }
      ]
    },
    {
      "cell_type": "markdown",
      "metadata": {
        "id": "zKTwQeuqMrSx"
      },
      "source": [
        "This is plot between if a customer is male/female vs number of customers leaving/not leaving. We can see that 1(Female) customer's churn rates are more than 0(males)."
      ]
    },
    {
      "cell_type": "code",
      "metadata": {
        "colab": {
          "base_uri": "https://localhost:8080/",
          "height": 295
        },
        "id": "9YJjmwGWFyg_",
        "outputId": "cf395f73-8089-4cc9-8686-5ed77af20022"
      },
      "source": [
        "univariate_plot(data,'Exited','AgeGroup')"
      ],
      "execution_count": null,
      "outputs": [
        {
          "output_type": "display_data",
          "data": {
            "image/png": "[encoded data removed]",
            "text/plain": [
              "<Figure size 432x288 with 1 Axes>"
            ]
          },
          "metadata": {
            "tags": [],
            "needs_background": "light"
          }
        }
      ]
    },
    {
      "cell_type": "markdown",
      "metadata": {
        "id": "SiLhUoXJy1_6"
      },
      "source": [
        "**Bivariate Analysis**"
      ]
    },
    {
      "cell_type": "code",
      "metadata": {
        "colab": {
          "base_uri": "https://localhost:8080/"
        },
        "id": "CF5NIhtgEctH",
        "outputId": "3e2762c9-4d38-4061-dfb2-26e914711cbe"
      },
      "source": [
        "max_age = max(data['Age'])\r\n",
        "min_age = min(data['Age'])\r\n",
        "print(max_age)\r\n",
        "print(min_age)\r\n",
        "# dividing people into age_groups [10,20] [21,30] , [31,40]\r\n"
      ],
      "execution_count": null,
      "outputs": [
        {
          "output_type": "stream",
          "text": [
            "92\n",
            "18\n"
          ],
          "name": "stdout"
        }
      ]
    },
    {
      "cell_type": "code",
      "metadata": {
        "id": "ZM309OdfFTnl"
      },
      "source": [
        "bins= [0,10,20,30,40,50,60,70,80,90,100]\r\n",
        "labels = ['0-9','10-19','20-29','30-39','40-49','50-59','60-69','70-79','80-89','90-99']\r\n",
        "data['AgeGroup'] = pd.cut(data['Age'], bins=bins, labels=labels, right=False)"
      ],
      "execution_count": null,
      "outputs": []
    },
    {
      "cell_type": "code",
      "metadata": {
        "colab": {
          "base_uri": "https://localhost:8080/",
          "height": 191
        },
        "id": "vSyy_duZFaSw",
        "outputId": "b97e2d87-3223-426e-b67b-519eb66778d0"
      },
      "source": [
        "data.head()"
      ],
      "execution_count": null,
      "outputs": [
        {
          "output_type": "execute_result",
          "data": {
            "text/html": [
              "<div>\n",
              "<style scoped>\n",
              "    .dataframe tbody tr th:only-of-type {\n",
              "        vertical-align: middle;\n",
              "    }\n",
              "\n",
              "    .dataframe tbody tr th {\n",
              "        vertical-align: top;\n",
              "    }\n",
              "\n",
              "    .dataframe thead th {\n",
              "        text-align: right;\n",
              "    }\n",
              "</style>\n",
              "<table border=\"1\" class=\"dataframe\">\n",
              "  <thead>\n",
              "    <tr style=\"text-align: right;\">\n",
              "      <th></th>\n",
              "      <th>CreditScore</th>\n",
              "      <th>Geography</th>\n",
              "      <th>Gender</th>\n",
              "      <th>Age</th>\n",
              "      <th>Tenure</th>\n",
              "      <th>Balance</th>\n",
              "      <th>NumOfProducts</th>\n",
              "      <th>HasCrCard</th>\n",
              "      <th>IsActiveMember</th>\n",
              "      <th>EstimatedSalary</th>\n",
              "      <th>Exited</th>\n",
              "      <th>isOverSpending</th>\n",
              "      <th>AgeGroup</th>\n",
              "    </tr>\n",
              "  </thead>\n",
              "  <tbody>\n",
              "    <tr>\n",
              "      <th>0</th>\n",
              "      <td>619</td>\n",
              "      <td>0</td>\n",
              "      <td>1</td>\n",
              "      <td>42</td>\n",
              "      <td>2</td>\n",
              "      <td>0.00</td>\n",
              "      <td>1</td>\n",
              "      <td>1</td>\n",
              "      <td>1</td>\n",
              "      <td>101348.88</td>\n",
              "      <td>1</td>\n",
              "      <td>False</td>\n",
              "      <td>40-49</td>\n",
              "    </tr>\n",
              "    <tr>\n",
              "      <th>1</th>\n",
              "      <td>608</td>\n",
              "      <td>2</td>\n",
              "      <td>1</td>\n",
              "      <td>41</td>\n",
              "      <td>1</td>\n",
              "      <td>83807.86</td>\n",
              "      <td>1</td>\n",
              "      <td>0</td>\n",
              "      <td>1</td>\n",
              "      <td>112542.58</td>\n",
              "      <td>0</td>\n",
              "      <td>False</td>\n",
              "      <td>40-49</td>\n",
              "    </tr>\n",
              "    <tr>\n",
              "      <th>2</th>\n",
              "      <td>502</td>\n",
              "      <td>0</td>\n",
              "      <td>1</td>\n",
              "      <td>42</td>\n",
              "      <td>8</td>\n",
              "      <td>159660.80</td>\n",
              "      <td>3</td>\n",
              "      <td>1</td>\n",
              "      <td>0</td>\n",
              "      <td>113931.57</td>\n",
              "      <td>1</td>\n",
              "      <td>True</td>\n",
              "      <td>40-49</td>\n",
              "    </tr>\n",
              "    <tr>\n",
              "      <th>3</th>\n",
              "      <td>699</td>\n",
              "      <td>0</td>\n",
              "      <td>1</td>\n",
              "      <td>39</td>\n",
              "      <td>1</td>\n",
              "      <td>0.00</td>\n",
              "      <td>2</td>\n",
              "      <td>0</td>\n",
              "      <td>0</td>\n",
              "      <td>93826.63</td>\n",
              "      <td>0</td>\n",
              "      <td>False</td>\n",
              "      <td>30-39</td>\n",
              "    </tr>\n",
              "    <tr>\n",
              "      <th>4</th>\n",
              "      <td>850</td>\n",
              "      <td>2</td>\n",
              "      <td>1</td>\n",
              "      <td>43</td>\n",
              "      <td>2</td>\n",
              "      <td>125510.82</td>\n",
              "      <td>1</td>\n",
              "      <td>1</td>\n",
              "      <td>1</td>\n",
              "      <td>79084.10</td>\n",
              "      <td>0</td>\n",
              "      <td>True</td>\n",
              "      <td>40-49</td>\n",
              "    </tr>\n",
              "  </tbody>\n",
              "</table>\n",
              "</div>"
            ],
            "text/plain": [
              "   CreditScore  Geography  Gender  ...  Exited  isOverSpending  AgeGroup\n",
              "0          619          0       1  ...       1           False     40-49\n",
              "1          608          2       1  ...       0           False     40-49\n",
              "2          502          0       1  ...       1            True     40-49\n",
              "3          699          0       1  ...       0           False     30-39\n",
              "4          850          2       1  ...       0            True     40-49\n",
              "\n",
              "[5 rows x 13 columns]"
            ]
          },
          "metadata": {
            "tags": []
          },
          "execution_count": 53
        }
      ]
    },
    {
      "cell_type": "code",
      "metadata": {
        "colab": {
          "base_uri": "https://localhost:8080/"
        },
        "id": "8D5-9SBh0noZ",
        "outputId": "86f6bc12-7939-4e43-e97d-aa1a4675db9a"
      },
      "source": [
        "columns = list(data.columns.values)\r\n",
        "print(columns)"
      ],
      "execution_count": null,
      "outputs": [
        {
          "output_type": "stream",
          "text": [
            "['CreditScore', 'Geography', 'Gender', 'Age', 'Tenure', 'Balance', 'NumOfProducts', 'HasCrCard', 'IsActiveMember', 'EstimatedSalary', 'Exited', 'Balance_Minus_EstimatedSalary']\n"
          ],
          "name": "stdout"
        }
      ]
    },
    {
      "cell_type": "code",
      "metadata": {
        "colab": {
          "base_uri": "https://localhost:8080/",
          "height": 622
        },
        "id": "7YZOVFZwUXRS",
        "outputId": "f4a65841-055e-4d46-a6bc-d754d76d04bb"
      },
      "source": [
        "plt.figure(figsize=(12,10))\r\n",
        "sns.boxplot(x='Gender',y='Tenure',hue='Exited',data=data)"
      ],
      "execution_count": null,
      "outputs": [
        {
          "output_type": "execute_result",
          "data": {
            "text/plain": [
              "<matplotlib.axes._subplots.AxesSubplot at 0x7f30afa15da0>"
            ]
          },
          "metadata": {
            "tags": []
          },
          "execution_count": 39
        },
        {
          "output_type": "display_data",
          "data": {
            "image/png": "[encoded data removed]",
            "text/plain": [
              "<Figure size 864x720 with 1 Axes>"
            ]
          },
          "metadata": {
            "tags": [],
            "needs_background": "light"
          }
        }
      ]
    },
    {
      "cell_type": "markdown",
      "metadata": {
        "id": "HyBlgK0he6FX"
      },
      "source": [
        "BoxPlot of Gender vs Tenure which shows how Gender and Tenure Together effect if the customer will churn or not.\r\n",
        "\r\n",
        "By looking at the plot , a simple condition can be found i.e .\r\n",
        "\r\n",
        "if gender is male the most of the customer churned have a tenure between [2,8] and customer not churned have tenure of [3,8]\r\n",
        "\r\n",
        "if gender is female , then most of customer churned have a tenure between [2,7] and customer not churned have a tenure between [2,6.5]\r\n"
      ]
    },
    {
      "cell_type": "code",
      "metadata": {
        "colab": {
          "base_uri": "https://localhost:8080/",
          "height": 622
        },
        "id": "Uu8NtXrxgy2Y",
        "outputId": "2c8b2cb7-8b90-49d8-9e48-c623d8e67aeb"
      },
      "source": [
        "plt.figure(figsize=(14,10))\r\n",
        "sns.boxplot(x='NumOfProducts',y='Age',hue='Exited',data=data)\r\n",
        "# if np=1 and age>40-- most people are leaving and if np=2 and age > 40--most if np=4 . not matter age only leaving"
      ],
      "execution_count": null,
      "outputs": [
        {
          "output_type": "execute_result",
          "data": {
            "text/plain": [
              "<matplotlib.axes._subplots.AxesSubplot at 0x7f30b2468438>"
            ]
          },
          "metadata": {
            "tags": []
          },
          "execution_count": 42
        },
        {
          "output_type": "display_data",
          "data": {
            "image/png": "[encoded data removed]",
            "text/plain": [
              "<Figure size 1008x720 with 1 Axes>"
            ]
          },
          "metadata": {
            "tags": [],
            "needs_background": "light"
          }
        }
      ]
    },
    {
      "cell_type": "markdown",
      "metadata": {
        "id": "U15JmQEohEQ7"
      },
      "source": [
        "The above plot shows NumOfProducts vs Age. \r\n",
        "\r\n",
        "By looking at the plot, we can write simple statements:-\r\n",
        "\r\n",
        "if numofproducts used is 1, then most of the customer that have churned have age approximately between [38,50] and customers didnot churn have age approx between [30,40]\r\n",
        "\r\n",
        "if numofproducts used is 2, then most of the customer that have churned have age approximately between [38,50] and customers didnot churn have age approx between [30,40]\r\n",
        "\r\n",
        "if numofproducts used is 3, then most of the customer that have churned have age approximately between [38,50] and customers didnot churn have age approx between [30,40]\r\n",
        "\r\n",
        "if numofpoducts used is 4, then all of the customers have churned.\r\n"
      ]
    },
    {
      "cell_type": "code",
      "metadata": {
        "colab": {
          "base_uri": "https://localhost:8080/",
          "height": 622
        },
        "id": "aA3vFjYsiPG5",
        "outputId": "4af32980-c3d5-4399-b3d5-e3b27de82e8e"
      },
      "source": [
        "plt.figure(figsize=(14,10))\r\n",
        "sns.boxplot(x='Gender',y='Age',hue='Exited',data=data)"
      ],
      "execution_count": null,
      "outputs": [
        {
          "output_type": "execute_result",
          "data": {
            "text/plain": [
              "<matplotlib.axes._subplots.AxesSubplot at 0x7f30af5947b8>"
            ]
          },
          "metadata": {
            "tags": []
          },
          "execution_count": 44
        },
        {
          "output_type": "display_data",
          "data": {
            "image/png": "[encoded data removed]",
            "text/plain": [
              "<Figure size 1008x720 with 1 Axes>"
            ]
          },
          "metadata": {
            "tags": [],
            "needs_background": "light"
          }
        }
      ]
    },
    {
      "cell_type": "markdown",
      "metadata": {
        "id": "8rxsz6Ywig_R"
      },
      "source": [
        "The above plot shows Gender vs Age. \r\n",
        "\r\n",
        "By looking at the plot, we can write simple statements:-\r\n",
        "\r\n",
        "if Customer is male (that is gender is 0), then most of the customer that have churned have age approximately between [38,50] and customers didnot churn have age approx between [30,40]\r\n",
        "\r\n",
        "if customer is female (that is gender is 1), then most of the customer that have churned have age approximately between [38,50] and customers didnot churn have age approx between [30,40]"
      ]
    },
    {
      "cell_type": "code",
      "metadata": {
        "colab": {
          "base_uri": "https://localhost:8080/",
          "height": 622
        },
        "id": "j9KTa0Ivi7iw",
        "outputId": "22ae6066-7f2e-4cee-a4f9-72cf07b47a6a"
      },
      "source": [
        "plt.figure(figsize=(14,10))\r\n",
        "sns.boxplot(x='NumOfProducts',y='Balance',hue='Exited',data=data)"
      ],
      "execution_count": null,
      "outputs": [
        {
          "output_type": "execute_result",
          "data": {
            "text/plain": [
              "<matplotlib.axes._subplots.AxesSubplot at 0x7f30b1ddef60>"
            ]
          },
          "metadata": {
            "tags": []
          },
          "execution_count": 49
        },
        {
          "output_type": "display_data",
          "data": {
            "image/png": "[encoded data removed]",
            "text/plain": [
              "<Figure size 1008x720 with 1 Axes>"
            ]
          },
          "metadata": {
            "tags": [],
            "needs_background": "light"
          }
        }
      ]
    },
    {
      "cell_type": "markdown",
      "metadata": {
        "id": "qKchyLE0jc51"
      },
      "source": [
        "The above plot shows NumOfProducts vs Balance. \r\n",
        "\r\n",
        "By looking at the plot, we can write simple statements:-\r\n",
        "\r\n",
        "if numofproducts used is 1, then most of the customer that have churned have Balance approximately between [5000,125000] and customers didnot churn have balance approx between [80000,125000]\r\n",
        "\r\n",
        "if numofproducts used is 2, then most of the customer that have churned have balance approximately between [25000,120000] and customers didnot churn have balance approx between [0,120000]\r\n",
        "\r\n",
        "if numofproducts used is 3, then most of the customer that have churned have balance approximately between [0,120000] and customers didnot churn are very less\r\n",
        "\r\n",
        "if numofpoducts used is 4, then all of the customers have churned."
      ]
    },
    {
      "cell_type": "code",
      "metadata": {
        "colab": {
          "base_uri": "https://localhost:8080/",
          "height": 622
        },
        "id": "cqi_WbEVmKan",
        "outputId": "486f2153-58a8-4f1a-9a6a-c1f57ea41865"
      },
      "source": [
        "plt.figure(figsize=(14,10))\r\n",
        "sns.boxplot(x='NumOfProducts',y='Tenure',hue='Exited',data=data)"
      ],
      "execution_count": null,
      "outputs": [
        {
          "output_type": "execute_result",
          "data": {
            "text/plain": [
              "<matplotlib.axes._subplots.AxesSubplot at 0x7f30af0c8358>"
            ]
          },
          "metadata": {
            "tags": []
          },
          "execution_count": 52
        },
        {
          "output_type": "display_data",
          "data": {
            "image/png": "[encoded data removed]",
            "text/plain": [
              "<Figure size 1008x720 with 1 Axes>"
            ]
          },
          "metadata": {
            "tags": [],
            "needs_background": "light"
          }
        }
      ]
    },
    {
      "cell_type": "markdown",
      "metadata": {
        "id": "8xYlXsAumSdP"
      },
      "source": [
        "The above plot shows NumOfProducts vs Tenure. \r\n",
        "\r\n",
        "By looking at the plot, we can write simple statements:-\r\n",
        "\r\n",
        "if numofproducts used is 1, then most of the customer that have churned have Tenure approximately between [2,7] and customers didnot churn have Tenure approx between [3,7]\r\n",
        "\r\n",
        "if numofproducts used is 2, then most of the customer that have churned have Tenure approximately between [2,7] and customers didnot churn have Tenure approx between [3,8]\r\n",
        "\r\n",
        "if numofproducts used is 3, then most of the customer that have churned have Tenure approximately between [3,7] and customers didnot churn have tenure approx between [3,8]\r\n",
        "\r\n",
        "if numofpoducts used is 4, then all of the customers have churned."
      ]
    },
    {
      "cell_type": "code",
      "metadata": {
        "colab": {
          "base_uri": "https://localhost:8080/",
          "height": 622
        },
        "id": "_2ouW3ynkbxJ",
        "outputId": "f73dafd8-b34c-4694-c6b0-b5796bd62b4f"
      },
      "source": [
        "plt.figure(figsize=(14,10))\r\n",
        "sns.boxplot(x='Gender',y='Balance',hue='Exited',data=data)"
      ],
      "execution_count": null,
      "outputs": [
        {
          "output_type": "execute_result",
          "data": {
            "text/plain": [
              "<matplotlib.axes._subplots.AxesSubplot at 0x7f30aef9d978>"
            ]
          },
          "metadata": {
            "tags": []
          },
          "execution_count": 50
        },
        {
          "output_type": "display_data",
          "data": {
            "image/png": "[encoded data removed]",
            "text/plain": [
              "<Figure size 1008x720 with 1 Axes>"
            ]
          },
          "metadata": {
            "tags": [],
            "needs_background": "light"
          }
        }
      ]
    },
    {
      "cell_type": "markdown",
      "metadata": {
        "id": "ygAgZyenkpGn"
      },
      "source": [
        "The above plot shows Gender vs Balance.\r\n",
        "\r\n",
        "By looking at the plot, we can write simple statements:-\r\n",
        "\r\n",
        "if gender is 0, that is customer is male, then most of the customers that churned have an balance approx between [80000,120000] and customers didnot churn have a balance approx between [0,110000]\r\n",
        "\r\n",
        "if gender is 1, that is customer is female, then most of the customers that churned have balance between [0,120000] and didnot churn have balance between [0,110000]\r\n"
      ]
    },
    {
      "cell_type": "code",
      "metadata": {
        "colab": {
          "base_uri": "https://localhost:8080/",
          "height": 622
        },
        "id": "uHwCY-YhnFmp",
        "outputId": "52ce9d69-4b22-4ead-cbd2-097dfaf0884c"
      },
      "source": [
        "plt.figure(figsize=(14,10))\r\n",
        "sns.boxplot(x='IsActiveMember',y='Balance',hue='Exited',data=data)"
      ],
      "execution_count": null,
      "outputs": [
        {
          "output_type": "execute_result",
          "data": {
            "text/plain": [
              "<matplotlib.axes._subplots.AxesSubplot at 0x7f30af64f9e8>"
            ]
          },
          "metadata": {
            "tags": []
          },
          "execution_count": 53
        },
        {
          "output_type": "display_data",
          "data": {
            "image/png": "[encoded data removed]",
            "text/plain": [
              "<Figure size 1008x720 with 1 Axes>"
            ]
          },
          "metadata": {
            "tags": [],
            "needs_background": "light"
          }
        }
      ]
    },
    {
      "cell_type": "markdown",
      "metadata": {
        "id": "hHZrsHcxnayT"
      },
      "source": [
        "The above plot is for IsActiveMember vs Balance.\r\n",
        "\r\n",
        "Simple statements that can be made by looking at the plot:-\r\n",
        "\r\n",
        "if a customer is not an activemember, then customers that have churned have balance approx between [40000,120000] and customers that didnot churned have balance between [0,120000]\r\n",
        "\r\n",
        "if a customer is  an activemember, then customers that have churned have balance approx between [50000,120000] and customers that didnot churned have balance between [0,120000]\r\n"
      ]
    },
    {
      "cell_type": "code",
      "metadata": {
        "colab": {
          "base_uri": "https://localhost:8080/",
          "height": 622
        },
        "id": "rTc2rWbTlkEg",
        "outputId": "40d5e291-75f9-4d3d-8a14-1cad84c58b57"
      },
      "source": [
        "plt.figure(figsize=(14,10))\r\n",
        "sns.boxplot(x='Gender',y='EstimatedSalary',hue='Exited',data=data)"
      ],
      "execution_count": null,
      "outputs": [
        {
          "output_type": "execute_result",
          "data": {
            "text/plain": [
              "<matplotlib.axes._subplots.AxesSubplot at 0x7f30af0faeb8>"
            ]
          },
          "metadata": {
            "tags": []
          },
          "execution_count": 51
        },
        {
          "output_type": "display_data",
          "data": {
            "image/png": "[encoded data removed]",
            "text/plain": [
              "<Figure size 1008x720 with 1 Axes>"
            ]
          },
          "metadata": {
            "tags": [],
            "needs_background": "light"
          }
        }
      ]
    },
    {
      "cell_type": "markdown",
      "metadata": {
        "id": "aJQ2ODGroNpD"
      },
      "source": [
        "The above plot is Gender vs NumofProducts.\r\n",
        "By looking at the plots we cannot say much as for both churned and not churned there is not much difference."
      ]
    },
    {
      "cell_type": "code",
      "metadata": {
        "colab": {
          "base_uri": "https://localhost:8080/",
          "height": 513
        },
        "id": "P3wjX_nhgQAZ",
        "outputId": "a9f3006d-4656-44de-b31a-73d20654b986"
      },
      "source": [
        "plt.figure(figsize=(12,8))\r\n",
        "sns.boxplot(x='Gender',y='NumOfProducts',hue='Exited',data=data)"
      ],
      "execution_count": null,
      "outputs": [
        {
          "output_type": "execute_result",
          "data": {
            "text/plain": [
              "<matplotlib.axes._subplots.AxesSubplot at 0x7f30af8d8320>"
            ]
          },
          "metadata": {
            "tags": []
          },
          "execution_count": 41
        },
        {
          "output_type": "display_data",
          "data": {
            "image/png": "[encoded data removed]",
            "text/plain": [
              "<Figure size 864x576 with 1 Axes>"
            ]
          },
          "metadata": {
            "tags": [],
            "needs_background": "light"
          }
        }
      ]
    },
    {
      "cell_type": "markdown",
      "metadata": {
        "id": "MCDId9lFgeqJ"
      },
      "source": [
        "The above plot is Gender vs NumofProducts.\r\n",
        "By looking at the plots we cannot say much as for both churned and not churned there is not much difference."
      ]
    },
    {
      "cell_type": "code",
      "metadata": {
        "colab": {
          "base_uri": "https://localhost:8080/",
          "height": 622
        },
        "id": "yZ9ad20aDobI",
        "outputId": "0514ddde-c29a-44cc-bec0-7a45a2374d77"
      },
      "source": [
        "plt.figure(figsize=(14,10))\r\n",
        "sns.boxplot(x='Geography',y='Age',hue='Exited',data=data)"
      ],
      "execution_count": null,
      "outputs": [
        {
          "output_type": "execute_result",
          "data": {
            "text/plain": [
              "<matplotlib.axes._subplots.AxesSubplot at 0x7f47d98037b8>"
            ]
          },
          "metadata": {
            "tags": []
          },
          "execution_count": 39
        },
        {
          "output_type": "display_data",
          "data": {
            "image/png": "[encoded data removed]",
            "text/plain": [
              "<Figure size 1008x720 with 1 Axes>"
            ]
          },
          "metadata": {
            "tags": [],
            "needs_background": "light"
          }
        }
      ]
    },
    {
      "cell_type": "code",
      "metadata": {
        "colab": {
          "base_uri": "https://localhost:8080/",
          "height": 622
        },
        "id": "18JykBoHDy1U",
        "outputId": "d75b1221-40c8-4dda-d6ea-79220ac1cd96"
      },
      "source": [
        "plt.figure(figsize=(14,10))\r\n",
        "sns.boxplot(x='Geography',y='Gender',hue='Exited',data=data)"
      ],
      "execution_count": null,
      "outputs": [
        {
          "output_type": "execute_result",
          "data": {
            "text/plain": [
              "<matplotlib.axes._subplots.AxesSubplot at 0x7f47d96f6160>"
            ]
          },
          "metadata": {
            "tags": []
          },
          "execution_count": 40
        },
        {
          "output_type": "display_data",
          "data": {
            "image/png": "[encoded data removed]",
            "text/plain": [
              "<Figure size 1008x720 with 1 Axes>"
            ]
          },
          "metadata": {
            "tags": [],
            "needs_background": "light"
          }
        }
      ]
    },
    {
      "cell_type": "code",
      "metadata": {
        "colab": {
          "base_uri": "https://localhost:8080/",
          "height": 622
        },
        "id": "YFh_MaOiD92w",
        "outputId": "0b450d2e-ff0a-49e8-ea50-8ffd7535fd43"
      },
      "source": [
        "plt.figure(figsize=(14,10))\r\n",
        "sns.boxplot(x='Geography',y='Balance',hue='Exited',data=data)"
      ],
      "execution_count": null,
      "outputs": [
        {
          "output_type": "execute_result",
          "data": {
            "text/plain": [
              "<matplotlib.axes._subplots.AxesSubplot at 0x7f47d96ed550>"
            ]
          },
          "metadata": {
            "tags": []
          },
          "execution_count": 41
        },
        {
          "output_type": "display_data",
          "data": {
            "image/png": "[encoded data removed]",
            "text/plain": [
              "<Figure size 1008x720 with 1 Axes>"
            ]
          },
          "metadata": {
            "tags": [],
            "needs_background": "light"
          }
        }
      ]
    },
    {
      "cell_type": "code",
      "metadata": {
        "colab": {
          "base_uri": "https://localhost:8080/",
          "height": 1000
        },
        "id": "O1XLsF-aGuKC",
        "outputId": "878f76c5-6993-4f20-e538-ed924ea8485f"
      },
      "source": [
        "plt.figure(figsize=(18,18))\r\n",
        "sns.boxplot(x='Gender',y='AgeGroup',hue='Exited',data=data)"
      ],
      "execution_count": null,
      "outputs": [
        {
          "output_type": "execute_result",
          "data": {
            "text/plain": [
              "<matplotlib.axes._subplots.AxesSubplot at 0x7f47d96d5550>"
            ]
          },
          "metadata": {
            "tags": []
          },
          "execution_count": 59
        },
        {
          "output_type": "display_data",
          "data": {
            "image/png": "[encoded data removed]",
            "text/plain": [
              "<Figure size 1296x1296 with 1 Axes>"
            ]
          },
          "metadata": {
            "tags": [],
            "needs_background": "light"
          }
        }
      ]
    },
    {
      "cell_type": "code",
      "metadata": {
        "colab": {
          "base_uri": "https://localhost:8080/",
          "height": 730
        },
        "id": "lH1iye23O5BM",
        "outputId": "cb9790b1-38f5-4847-acfc-bc3de17aa585"
      },
      "source": [
        "plt.figure(figsize=(18,12))\r\n",
        "sns.boxplot(x='AgeGroup',y='CreditScore',hue='Exited',data=data)"
      ],
      "execution_count": null,
      "outputs": [
        {
          "output_type": "execute_result",
          "data": {
            "text/plain": [
              "<matplotlib.axes._subplots.AxesSubplot at 0x7f47d8cc61d0>"
            ]
          },
          "metadata": {
            "tags": []
          },
          "execution_count": 72
        },
        {
          "output_type": "display_data",
          "data": {
            "image/png": "[encoded data removed]",
            "text/plain": [
              "<Figure size 1296x864 with 1 Axes>"
            ]
          },
          "metadata": {
            "tags": [],
            "needs_background": "light"
          }
        }
      ]
    },
    {
      "cell_type": "markdown",
      "metadata": {
        "id": "eZJiN4GZNELy"
      },
      "source": [
        "**Correlation**"
      ]
    },
    {
      "cell_type": "code",
      "metadata": {
        "id": "ZqsU-4BEHL9N"
      },
      "source": [
        "# relation between the features using datframe corr method using pearson correlation technique.\r\n",
        "corr_mat = data.corr(method='pearson')"
      ],
      "execution_count": null,
      "outputs": []
    },
    {
      "cell_type": "markdown",
      "metadata": {
        "id": "ypfb2i346qki"
      },
      "source": [
        "We have already converted categorical variable to numerical so now we can use data.corr()"
      ]
    },
    {
      "cell_type": "code",
      "metadata": {
        "colab": {
          "base_uri": "https://localhost:8080/",
          "height": 872
        },
        "id": "VZA8nIErLVGm",
        "outputId": "8aad5304-5274-4bdd-e5dd-55f8f200ed75"
      },
      "source": [
        "# this code show the correlation matrix using a heatmap\r\n",
        "plt.figure(figsize =(22,12))\r\n",
        "sns.heatmap(data.corr(method='pearson'), annot= True, cmap ='RdYlGn')"
      ],
      "execution_count": null,
      "outputs": [
        {
          "output_type": "execute_result",
          "data": {
            "text/plain": [
              "<matplotlib.axes._subplots.AxesSubplot at 0x7f3e08b0c048>"
            ]
          },
          "metadata": {
            "tags": []
          },
          "execution_count": 28
        },
        {
          "output_type": "display_data",
          "data": {
            "image/png": "[encoded data removed]",
            "text/plain": [
              "<Figure size 1584x864 with 2 Axes>"
            ]
          },
          "metadata": {
            "tags": [],
            "needs_background": "light"
          }
        }
      ]
    },
    {
      "cell_type": "markdown",
      "metadata": {
        "id": "2YU7eFykOEiZ"
      },
      "source": [
        "By looking at the above heatmap which shows the correlation between the features,we can see that the values are very less, it can be deduce that there is not so strong correlation between the features.But we can actually set a threshold (0.10) and if the corr value between two features is more than that we can say that they are somewhat correlated."
      ]
    },
    {
      "cell_type": "code",
      "metadata": {
        "id": "Ark58klxPWQ2"
      },
      "source": [
        "def get_correlated_features(corr_mat,threshold):\r\n",
        "\r\n",
        "  '''\r\n",
        "     This method is to get the realted features using the correlation matrix and some threshold above which\r\n",
        "     we can say that two features are said to be related.\r\n",
        "     Arguments: \r\n",
        "        1) correlation matrix (dataframe.corr())\r\n",
        "        2) threshold (dtype: float64)\r\n",
        "     Returns a dictionary where key is features and value is the list of features to whom it can be said as related.\r\n",
        "\r\n",
        "  \r\n",
        "  '''\r\n",
        "  related_features = dict()\r\n",
        "  for i in list(corr_mat.columns):\r\n",
        "    if not related_features.__contains__(i):\r\n",
        "      related_features[i] = []\r\n",
        "    for j in list(corr_mat.columns):\r\n",
        "      if corr_mat[i][j] >threshold and corr_mat[i][j] !=1:\r\n",
        "        curr_list = related_features.get(i).append(j)\r\n",
        "  return related_features"
      ],
      "execution_count": null,
      "outputs": []
    },
    {
      "cell_type": "code",
      "metadata": {
        "id": "psvarhnXHYbP",
        "colab": {
          "base_uri": "https://localhost:8080/"
        },
        "outputId": "8fa03f3c-7127-4fb9-fc58-71143901b1fd"
      },
      "source": [
        "related_features = get_correlated_features(corr_mat,0.10)\r\n",
        "print(related_features)            "
      ],
      "execution_count": null,
      "outputs": [
        {
          "output_type": "stream",
          "text": [
            "{'CreditScore': [], 'Geography': [], 'Gender': ['Exited'], 'Age': ['Exited'], 'Tenure': [], 'Balance': ['Exited', 'Balance_Minus_EstimatedSalary'], 'NumOfProducts': [], 'HasCrCard': [], 'IsActiveMember': [], 'EstimatedSalary': [], 'Exited': ['Gender', 'Age', 'Balance'], 'Balance_Minus_EstimatedSalary': ['Balance']}\n"
          ],
          "name": "stdout"
        }
      ]
    },
    {
      "cell_type": "markdown",
      "metadata": {
        "id": "qretcTOzSaRy"
      },
      "source": [
        "Here according to our threshold we can find some of the related features  like  {[Gender, Exited] or [Age, Exited] or[Balance,'Exited','Balance_Minus_EstimatedSalary']}"
      ]
    },
    {
      "cell_type": "code",
      "metadata": {
        "colab": {
          "base_uri": "https://localhost:8080/",
          "height": 367
        },
        "id": "uw7W9krLHkra",
        "outputId": "bf0f7550-7aae-4088-c2d0-fa0168161f8a"
      },
      "source": [
        "corr_mat.head(10)"
      ],
      "execution_count": null,
      "outputs": [
        {
          "output_type": "execute_result",
          "data": {
            "text/html": [
              "<div>\n",
              "<style scoped>\n",
              "    .dataframe tbody tr th:only-of-type {\n",
              "        vertical-align: middle;\n",
              "    }\n",
              "\n",
              "    .dataframe tbody tr th {\n",
              "        vertical-align: top;\n",
              "    }\n",
              "\n",
              "    .dataframe thead th {\n",
              "        text-align: right;\n",
              "    }\n",
              "</style>\n",
              "<table border=\"1\" class=\"dataframe\">\n",
              "  <thead>\n",
              "    <tr style=\"text-align: right;\">\n",
              "      <th></th>\n",
              "      <th>CreditScore</th>\n",
              "      <th>Geography</th>\n",
              "      <th>Gender</th>\n",
              "      <th>Age</th>\n",
              "      <th>Tenure</th>\n",
              "      <th>Balance</th>\n",
              "      <th>NumOfProducts</th>\n",
              "      <th>HasCrCard</th>\n",
              "      <th>IsActiveMember</th>\n",
              "      <th>EstimatedSalary</th>\n",
              "      <th>Exited</th>\n",
              "      <th>Balance_Minus_EstimatedSalary</th>\n",
              "    </tr>\n",
              "  </thead>\n",
              "  <tbody>\n",
              "    <tr>\n",
              "      <th>CreditScore</th>\n",
              "      <td>1.000000</td>\n",
              "      <td>0.007888</td>\n",
              "      <td>0.002857</td>\n",
              "      <td>-0.003965</td>\n",
              "      <td>0.000842</td>\n",
              "      <td>0.006268</td>\n",
              "      <td>0.012238</td>\n",
              "      <td>-0.005458</td>\n",
              "      <td>0.025651</td>\n",
              "      <td>-0.001384</td>\n",
              "      <td>-0.027094</td>\n",
              "      <td>0.005583</td>\n",
              "    </tr>\n",
              "    <tr>\n",
              "      <th>Geography</th>\n",
              "      <td>0.007888</td>\n",
              "      <td>1.000000</td>\n",
              "      <td>-0.004719</td>\n",
              "      <td>0.022812</td>\n",
              "      <td>0.003739</td>\n",
              "      <td>0.069408</td>\n",
              "      <td>0.003972</td>\n",
              "      <td>-0.008523</td>\n",
              "      <td>0.006724</td>\n",
              "      <td>-0.001369</td>\n",
              "      <td>0.035943</td>\n",
              "      <td>0.052299</td>\n",
              "    </tr>\n",
              "    <tr>\n",
              "      <th>Gender</th>\n",
              "      <td>0.002857</td>\n",
              "      <td>-0.004719</td>\n",
              "      <td>1.000000</td>\n",
              "      <td>0.027544</td>\n",
              "      <td>-0.014733</td>\n",
              "      <td>-0.012087</td>\n",
              "      <td>0.021859</td>\n",
              "      <td>-0.005766</td>\n",
              "      <td>-0.022544</td>\n",
              "      <td>0.008112</td>\n",
              "      <td>0.106512</td>\n",
              "      <td>-0.014478</td>\n",
              "    </tr>\n",
              "    <tr>\n",
              "      <th>Age</th>\n",
              "      <td>-0.003965</td>\n",
              "      <td>0.022812</td>\n",
              "      <td>0.027544</td>\n",
              "      <td>1.000000</td>\n",
              "      <td>-0.009997</td>\n",
              "      <td>0.028308</td>\n",
              "      <td>-0.030680</td>\n",
              "      <td>-0.011721</td>\n",
              "      <td>0.085472</td>\n",
              "      <td>-0.007201</td>\n",
              "      <td>0.285323</td>\n",
              "      <td>0.025861</td>\n",
              "    </tr>\n",
              "    <tr>\n",
              "      <th>Tenure</th>\n",
              "      <td>0.000842</td>\n",
              "      <td>0.003739</td>\n",
              "      <td>-0.014733</td>\n",
              "      <td>-0.009997</td>\n",
              "      <td>1.000000</td>\n",
              "      <td>-0.012254</td>\n",
              "      <td>0.013444</td>\n",
              "      <td>0.022583</td>\n",
              "      <td>-0.028362</td>\n",
              "      <td>0.007784</td>\n",
              "      <td>-0.014001</td>\n",
              "      <td>-0.014378</td>\n",
              "    </tr>\n",
              "    <tr>\n",
              "      <th>Balance</th>\n",
              "      <td>0.006268</td>\n",
              "      <td>0.069408</td>\n",
              "      <td>-0.012087</td>\n",
              "      <td>0.028308</td>\n",
              "      <td>-0.012254</td>\n",
              "      <td>1.000000</td>\n",
              "      <td>-0.304180</td>\n",
              "      <td>-0.014858</td>\n",
              "      <td>-0.010084</td>\n",
              "      <td>0.012797</td>\n",
              "      <td>0.118533</td>\n",
              "      <td>0.731321</td>\n",
              "    </tr>\n",
              "    <tr>\n",
              "      <th>NumOfProducts</th>\n",
              "      <td>0.012238</td>\n",
              "      <td>0.003972</td>\n",
              "      <td>0.021859</td>\n",
              "      <td>-0.030680</td>\n",
              "      <td>0.013444</td>\n",
              "      <td>-0.304180</td>\n",
              "      <td>1.000000</td>\n",
              "      <td>0.003183</td>\n",
              "      <td>0.009612</td>\n",
              "      <td>0.014204</td>\n",
              "      <td>-0.047820</td>\n",
              "      <td>-0.234797</td>\n",
              "    </tr>\n",
              "    <tr>\n",
              "      <th>HasCrCard</th>\n",
              "      <td>-0.005458</td>\n",
              "      <td>-0.008523</td>\n",
              "      <td>-0.005766</td>\n",
              "      <td>-0.011721</td>\n",
              "      <td>0.022583</td>\n",
              "      <td>-0.014858</td>\n",
              "      <td>0.003183</td>\n",
              "      <td>1.000000</td>\n",
              "      <td>-0.011866</td>\n",
              "      <td>-0.009933</td>\n",
              "      <td>-0.007138</td>\n",
              "      <td>-0.004220</td>\n",
              "    </tr>\n",
              "    <tr>\n",
              "      <th>IsActiveMember</th>\n",
              "      <td>0.025651</td>\n",
              "      <td>0.006724</td>\n",
              "      <td>-0.022544</td>\n",
              "      <td>0.085472</td>\n",
              "      <td>-0.028362</td>\n",
              "      <td>-0.010084</td>\n",
              "      <td>0.009612</td>\n",
              "      <td>-0.011866</td>\n",
              "      <td>1.000000</td>\n",
              "      <td>-0.011421</td>\n",
              "      <td>-0.156128</td>\n",
              "      <td>0.000328</td>\n",
              "    </tr>\n",
              "    <tr>\n",
              "      <th>EstimatedSalary</th>\n",
              "      <td>-0.001384</td>\n",
              "      <td>-0.001369</td>\n",
              "      <td>0.008112</td>\n",
              "      <td>-0.007201</td>\n",
              "      <td>0.007784</td>\n",
              "      <td>0.012797</td>\n",
              "      <td>0.014204</td>\n",
              "      <td>-0.009933</td>\n",
              "      <td>-0.011421</td>\n",
              "      <td>1.000000</td>\n",
              "      <td>0.012097</td>\n",
              "      <td>-0.672619</td>\n",
              "    </tr>\n",
              "  </tbody>\n",
              "</table>\n",
              "</div>"
            ],
            "text/plain": [
              "                 CreditScore  ...  Balance_Minus_EstimatedSalary\n",
              "CreditScore         1.000000  ...                       0.005583\n",
              "Geography           0.007888  ...                       0.052299\n",
              "Gender              0.002857  ...                      -0.014478\n",
              "Age                -0.003965  ...                       0.025861\n",
              "Tenure              0.000842  ...                      -0.014378\n",
              "Balance             0.006268  ...                       0.731321\n",
              "NumOfProducts       0.012238  ...                      -0.234797\n",
              "HasCrCard          -0.005458  ...                      -0.004220\n",
              "IsActiveMember      0.025651  ...                       0.000328\n",
              "EstimatedSalary    -0.001384  ...                      -0.672619\n",
              "\n",
              "[10 rows x 12 columns]"
            ]
          },
          "metadata": {
            "tags": []
          },
          "execution_count": 98
        }
      ]
    },
    {
      "cell_type": "markdown",
      "metadata": {
        "id": "rF6gSlvTS4PM"
      },
      "source": [
        "**We can also Draw some box plots and see if their are outliers or not**"
      ]
    },
    {
      "cell_type": "markdown",
      "metadata": {
        "id": "3NE6sXAcXACh"
      },
      "source": [
        "# boxplots"
      ]
    },
    {
      "cell_type": "code",
      "metadata": {
        "id": "Hocr5uL_dqrm"
      },
      "source": [
        "def boxplots(data,column_name):\r\n",
        "  '''\r\n",
        "     This is a wrapper method to draw a bos plot.\r\n",
        "     It takes two argument dataframe and the column of which we want to draw boxplot.\r\n",
        "  '''\r\n",
        "  plt.figure(figsize = (10, 6))\r\n",
        "  ax = sns.boxplot(data[column_name])\r\n",
        "  plt.setp(ax.artists, alpha=.5, linewidth=2, edgecolor=\"k\")\r\n",
        "  plt.xticks(rotation=45)\r\n"
      ],
      "execution_count": null,
      "outputs": []
    },
    {
      "cell_type": "code",
      "metadata": {
        "colab": {
          "base_uri": "https://localhost:8080/",
          "height": 394
        },
        "id": "kLcdWaqYZdRb",
        "outputId": "b29c3a49-469a-4b45-8d96-b59afcd7873c"
      },
      "source": [
        "#Age\r\n",
        "boxplots(data,'Age')"
      ],
      "execution_count": null,
      "outputs": [
        {
          "output_type": "display_data",
          "data": {
            "image/png": "[encoded data removed]",
            "text/plain": [
              "<Figure size 720x432 with 1 Axes>"
            ]
          },
          "metadata": {
            "tags": [],
            "needs_background": "light"
          }
        }
      ]
    },
    {
      "cell_type": "code",
      "metadata": {
        "colab": {
          "base_uri": "https://localhost:8080/",
          "height": 397
        },
        "id": "hEj1_zCYeTOh",
        "outputId": "3b1ff62e-d30a-496a-a1cf-c44031650fd1"
      },
      "source": [
        "#CreditScore\r\n",
        "boxplots(data,'CreditScore')"
      ],
      "execution_count": null,
      "outputs": [
        {
          "output_type": "display_data",
          "data": {
            "image/png": "[encoded data removed]",
            "text/plain": [
              "<Figure size 720x432 with 1 Axes>"
            ]
          },
          "metadata": {
            "tags": [],
            "needs_background": "light"
          }
        }
      ]
    },
    {
      "cell_type": "code",
      "metadata": {
        "colab": {
          "base_uri": "https://localhost:8080/",
          "height": 401
        },
        "id": "YLBphPnneWfv",
        "outputId": "59b4539c-db2e-4605-8a21-3d845080ba12"
      },
      "source": [
        "#Geography\r\n",
        "boxplots(data,'Geography')"
      ],
      "execution_count": null,
      "outputs": [
        {
          "output_type": "display_data",
          "data": {
            "image/png": "[encoded data removed]",
            "text/plain": [
              "<Figure size 720x432 with 1 Axes>"
            ]
          },
          "metadata": {
            "tags": [],
            "needs_background": "light"
          }
        }
      ]
    },
    {
      "cell_type": "code",
      "metadata": {
        "colab": {
          "base_uri": "https://localhost:8080/",
          "height": 395
        },
        "id": "HBe4xrlfeWUk",
        "outputId": "4d1597c4-52c8-4f48-f655-406f142bb710"
      },
      "source": [
        "#Gender\r\n",
        "boxplots(data,'Gender')"
      ],
      "execution_count": null,
      "outputs": [
        {
          "output_type": "display_data",
          "data": {
            "image/png": "[encoded data removed]",
            "text/plain": [
              "<Figure size 720x432 with 1 Axes>"
            ]
          },
          "metadata": {
            "tags": [],
            "needs_background": "light"
          }
        }
      ]
    },
    {
      "cell_type": "code",
      "metadata": {
        "colab": {
          "base_uri": "https://localhost:8080/",
          "height": 394
        },
        "id": "LKjYayhEeWI4",
        "outputId": "3a72d9e0-a8f5-419d-964b-21e0a43572f0"
      },
      "source": [
        "#Tenure\r\n",
        "boxplots(data,'Tenure')"
      ],
      "execution_count": null,
      "outputs": [
        {
          "output_type": "display_data",
          "data": {
            "image/png": "[encoded data removed]",
            "text/plain": [
              "<Figure size 720x432 with 1 Axes>"
            ]
          },
          "metadata": {
            "tags": [],
            "needs_background": "light"
          }
        }
      ]
    },
    {
      "cell_type": "code",
      "metadata": {
        "colab": {
          "base_uri": "https://localhost:8080/",
          "height": 412
        },
        "id": "YFBrtuvFeV6z",
        "outputId": "6e93948c-032e-4996-9568-71328c6425b1"
      },
      "source": [
        "#Balance\r\n",
        "boxplots(data,'Balance')"
      ],
      "execution_count": null,
      "outputs": [
        {
          "output_type": "display_data",
          "data": {
            "image/png": "[encoded data removed]",
            "text/plain": [
              "<Figure size 720x432 with 1 Axes>"
            ]
          },
          "metadata": {
            "tags": [],
            "needs_background": "light"
          }
        }
      ]
    },
    {
      "cell_type": "code",
      "metadata": {
        "colab": {
          "base_uri": "https://localhost:8080/",
          "height": 395
        },
        "id": "so30gr4Oee0p",
        "outputId": "1d3739f9-9ff4-4803-a415-daffd6d8cc60"
      },
      "source": [
        "#NumOfProducts\r\n",
        "boxplots(data,'NumOfProducts')"
      ],
      "execution_count": null,
      "outputs": [
        {
          "output_type": "display_data",
          "data": {
            "image/png": "[encoded data removed]",
            "text/plain": [
              "<Figure size 720x432 with 1 Axes>"
            ]
          },
          "metadata": {
            "tags": [],
            "needs_background": "light"
          }
        }
      ]
    },
    {
      "cell_type": "code",
      "metadata": {
        "colab": {
          "base_uri": "https://localhost:8080/",
          "height": 395
        },
        "id": "uHW0PB4jeen2",
        "outputId": "923b2298-20a4-4cc2-c18b-81dfb50746a5"
      },
      "source": [
        "#HasCrCard\r\n",
        "boxplots(data,'HasCrCard')"
      ],
      "execution_count": null,
      "outputs": [
        {
          "output_type": "display_data",
          "data": {
            "image/png": "[encoded data removed]",
            "text/plain": [
              "<Figure size 720x432 with 1 Axes>"
            ]
          },
          "metadata": {
            "tags": [],
            "needs_background": "light"
          }
        }
      ]
    },
    {
      "cell_type": "code",
      "metadata": {
        "colab": {
          "base_uri": "https://localhost:8080/",
          "height": 412
        },
        "id": "7Ity3pBmehH2",
        "outputId": "379e9e9e-ca7d-4bd6-f4fc-93e7fc9e624d"
      },
      "source": [
        "#EstimatedSalary\r\n",
        "boxplots(data,'EstimatedSalary')"
      ],
      "execution_count": null,
      "outputs": [
        {
          "output_type": "display_data",
          "data": {
            "image/png": "[encoded data removed]",
            "text/plain": [
              "<Figure size 720x432 with 1 Axes>"
            ]
          },
          "metadata": {
            "tags": [],
            "needs_background": "light"
          }
        }
      ]
    },
    {
      "cell_type": "code",
      "metadata": {
        "colab": {
          "base_uri": "https://localhost:8080/",
          "height": 418
        },
        "id": "7TuYdp9weg-6",
        "outputId": "cb73829a-b3a6-47d2-dd46-e94e83309e22"
      },
      "source": [
        "#Balance_Minus_EstimatedSalary\r\n",
        "boxplots(data,'Balance_Minus_EstimatedSalary')"
      ],
      "execution_count": null,
      "outputs": [
        {
          "output_type": "display_data",
          "data": {
            "image/png": "[encoded data removed]",
            "text/plain": [
              "<Figure size 720x432 with 1 Axes>"
            ]
          },
          "metadata": {
            "tags": [],
            "needs_background": "light"
          }
        }
      ]
    },
    {
      "cell_type": "markdown",
      "metadata": {
        "id": "N9s_xM0mz1NH"
      },
      "source": [
        "__OBSERVATIONS TILL NOW__"
      ]
    },
    {
      "cell_type": "markdown",
      "metadata": {
        "id": "7Mq8udCmnPU7"
      },
      "source": [
        "__KEY UNDERSTANDING FROM EDA AND FE__\r\n",
        "\r\n",
        "\r\n",
        "1) we have 14 columns namely ['RowNumber', 'CustomerId', 'Surname', 'CreditScore', 'Geography','Gender', 'Age', 'Tenure', 'Balance', 'NumOfProducts', 'HasCrCard','IsActiveMember', 'EstimatedSalary', 'Exited']\r\n",
        "\r\n",
        "2) Out of these 14 columns we have three columns which seems to be not important for prediction . They Are RowNumber, CustomerId, Surname. We can just drop these columns\r\n",
        "\r\n",
        "3) We have Two categorical columns namely Geography and Gender which needs to be converted to numeric. \r\n",
        "\r\n",
        "    3.1) Column Gender has Two unique values namely MALE and FEMALE, so we can do label encoding on them by replacing MALE with 0 and FEMALE with 1. \r\n",
        "\r\n",
        "    3.2) Column Geography has Three unique values representing location where the company provides it services namely France, Germany And Spain. Here also we can do label encoding representing France with 0, Germany with 1 and Spain with 2.\r\n",
        "\r\n",
        "4) By doing the above eda, below points are found and can be considered important:\r\n",
        "\r\n",
        "    4.1) Most Of the customers that are leaving/churning are in the age group of [50-59] and out of these customers we have 55% female who have churned and 45% male. So more  Female customers are leaving.\r\n",
        "\r\n",
        "    4.2) On the basis of Geography, Most of the  customers leaving/churning are from Germany and out of these most of them are females.\r\n",
        "\r\n",
        "    4.3) Most of the customers who holds a credit card are leaving/churning.\r\n",
        "\r\n",
        "    4.4) All the customers who have used more than 3 products/services of the company have churned.\r\n",
        "\r\n",
        "    4.5) If we look at the box plot of age we have some outliers but as our data is  small we cannot remove them.\r\n",
        "\r\n"
      ]
    },
    {
      "cell_type": "markdown",
      "metadata": {
        "id": "O8DN0NWBz9DW"
      },
      "source": [
        "# Modelling"
      ]
    },
    {
      "cell_type": "code",
      "metadata": {
        "id": "OhPUCXfD9dIn"
      },
      "source": [
        "def get_classifier(X_train,Y_train,classifier,best_params=None):\r\n",
        "  clf = None\r\n",
        "  if classifier=='logistic':\r\n",
        "    clf = LogisticRegression(random_state=0)\r\n",
        "    clf.fit(X_train,Y_train)\r\n",
        "  else:\r\n",
        "    clf = RandomForestClassifier(n_estimators=best_params['n_estimators'], max_depth=best_params['max_depth'],\r\n",
        "                             min_samples_split=best_params['min_samples_split'])\r\n",
        "    clf.fit(X_train,Y_train)\r\n",
        "  return clf"
      ],
      "execution_count": null,
      "outputs": []
    },
    {
      "cell_type": "code",
      "metadata": {
        "id": "AhGyMpFA89fA"
      },
      "source": [
        "# method to get all the metrics for a classifier \r\n",
        "from sklearn.metrics import accuracy_score, precision_score,recall_score,f1_score\r\n",
        "def get_metrics(clf,X_train,X_test,Y_train,Y_test):\r\n",
        "  y_pred_test = clf.predict(X_test)\r\n",
        "  y_pred_test_prob = clf.predict_proba(X_test)[:,1]\r\n",
        "  y_pred_train = clf.predict(X_train)\r\n",
        "  y_pred_train_prob = clf.predict_proba(X_train)[:,1]\r\n",
        "  accuracy = accuracy_score(Y_test,y_pred_test)\r\n",
        "  precision= precision_score(Y_test, y_pred_test, average='weighted')\r\n",
        "  recall = recall_score(Y_test,y_pred_test,average='weighted')\r\n",
        "  f1_scores = f1_score(Y_test,y_pred_test,average='weighted')\r\n",
        "  \r\n",
        "  # creating metrics dict\r\n",
        "  metrics = dict()\r\n",
        "  metrics['accuracy'] = accuracy\r\n",
        "  # metrics['auc_test'] = auc_test\r\n",
        "  # metrics['auc_train'] = auc_train\r\n",
        "  metrics['precision'] = precision\r\n",
        "  metrics['recall'] = recall\r\n",
        "  metrics['f1_score'] = f1_scores\r\n",
        "\r\n",
        "  return metrics"
      ],
      "execution_count": null,
      "outputs": []
    },
    {
      "cell_type": "code",
      "metadata": {
        "id": "DuwBMIy39RKF"
      },
      "source": [
        "from sklearn.metrics import confusion_matrix\r\n",
        "def plot_confusion_matrix(Y_test,y_pred):\r\n",
        "  cm = confusion_matrix(Y_test, y_pred)\r\n",
        "  plt.figure(figsize = (10,7))\r\n",
        "  sns.heatmap(cm, annot=True, fmt='d')\r\n",
        "  plt.xlabel('Predicted')\r\n",
        "  plt.ylabel('Truth')\r\n"
      ],
      "execution_count": null,
      "outputs": []
    },
    {
      "cell_type": "code",
      "metadata": {
        "id": "wgep-jaA9WAP"
      },
      "source": [
        "def plot_feature_importances(clf,data):\r\n",
        "  plt.barh(data.columns.values,clf.feature_importances_)"
      ],
      "execution_count": null,
      "outputs": []
    },
    {
      "cell_type": "code",
      "metadata": {
        "id": "sRouOZgVuApo"
      },
      "source": [
        "def plot_roc_auc_curve(clf,X_test,X_train,Y_train,Y_test):\r\n",
        "  y_pred_test_prob = clf.predict_proba(X_test)\r\n",
        "  y_pred_train_prob = clf.predict_proba(X_train)\r\n",
        "  train_fpr, train_tpr, train_thresholds = roc_curve(Y_train, y_pred_train_prob[:,1])\r\n",
        "  test_fpr, test_tpr, test_thresholds = roc_curve(Y_test, y_pred_test_prob[:,1])\r\n",
        "  plt.plot(train_fpr, train_tpr,label=f\"Train auc= {auc(train_fpr, train_tpr)}\")\r\n",
        "  plt.plot(test_fpr, test_tpr,label=f\"Test auc= {auc(test_fpr, test_tpr)}\")\r\n",
        "  plt.legend()\r\n",
        "  plt.xlabel(\"False Positve Ratio\")\r\n",
        "  plt.ylabel(\"True positive Ratio\")\r\n",
        "  plt.title(\"Train And Test Auc\")\r\n",
        "  plt.show()\r\n"
      ],
      "execution_count": null,
      "outputs": []
    },
    {
      "cell_type": "markdown",
      "metadata": {
        "id": "vEc7BbU5TnRs"
      },
      "source": [
        "**Train Test Split**"
      ]
    },
    {
      "cell_type": "code",
      "metadata": {
        "id": "h07ZNpCU0-Dx",
        "colab": {
          "base_uri": "https://localhost:8080/"
        },
        "outputId": "cfd80fdd-2279-4b9b-e9c2-baf3cffb5fa9"
      },
      "source": [
        "# train test split\r\n",
        "from sklearn.model_selection import train_test_split\r\n",
        "\r\n",
        "y = data['Exited']\r\n",
        "data.drop('Exited',axis=1,inplace=True)\r\n",
        "X_train,X_test,y_train,y_test = train_test_split(data,y,test_size=0.1)\r\n",
        "print(X_train.head())"
      ],
      "execution_count": null,
      "outputs": [
        {
          "output_type": "stream",
          "text": [
            "      CreditScore  Geography  ...  EstimatedSalary  isOverSpending\n",
            "9040          581          1  ...         32919.42               1\n",
            "3537          602          0  ...        162347.05               0\n",
            "6539          697          0  ...         46807.62               0\n",
            "7778          583          2  ...          5985.36               0\n",
            "3545          468          0  ...        198714.29               0\n",
            "\n",
            "[5 rows x 11 columns]\n"
          ],
          "name": "stdout"
        }
      ]
    },
    {
      "cell_type": "markdown",
      "metadata": {
        "id": "1VcDt4oZ9nWv"
      },
      "source": [
        "**Random Forest With Hyperparamter Tuning Using Grid Search Cv**\r\n",
        "\r\n",
        "---\r\n",
        "\r\n"
      ]
    },
    {
      "cell_type": "markdown",
      "metadata": {
        "id": "BKhegCJL9l8S"
      },
      "source": [
        "***Understanding Hyperparamters in RandomForest***\r\n",
        "\r\n",
        "---\r\n",
        "\r\n",
        "**n_estimators** = number of trees in the foreset\r\n",
        "\r\n",
        "**max_features** = max number of features considered for splitting a node\r\n",
        "\r\n",
        "**max_depth** = max number of levels in each decision tree. If none it will go to max_depth\r\n",
        "\r\n",
        "**min_samples_split** = min number of data points placed in a node before the node is split\r\n",
        "\r\n",
        "**min_samples_leaf** = min number of data points allowed in a leaf node\r\n",
        "\r\n",
        "**bootstrap** = method for sampling data points (with or without replacement)\r\n"
      ]
    },
    {
      "cell_type": "code",
      "metadata": {
        "id": "1wjIqoxn9su9"
      },
      "source": [
        "def randomForest_param_grid():\r\n",
        "  n_estimators = [int(x) for x in np.linspace(start = 300, stop = 2000, num = 4)]\r\n",
        "  max_depth = [int(x) for x in np.linspace(5, 110, num = 4)]\r\n",
        "  max_depth.append(None)\r\n",
        "  min_samples_split = [1,2,3,4]\r\n",
        "  min_samples_leaf = [1,2,3,4]\r\n",
        "  bootstrap = [False]\r\n",
        "  param_grid = {'n_estimators': n_estimators,\r\n",
        "               'max_depth': max_depth,\r\n",
        "               'min_samples_split': min_samples_split,\r\n",
        "               'min_samples_leaf': min_samples_leaf,\r\n",
        "               'bootstrap': bootstrap}\r\n",
        "  return param_grid"
      ],
      "execution_count": null,
      "outputs": []
    },
    {
      "cell_type": "code",
      "metadata": {
        "colab": {
          "base_uri": "https://localhost:8080/"
        },
        "id": "axOJP824-Clu",
        "outputId": "2e95fd75-8778-48cd-8c85-8874dba2860b"
      },
      "source": [
        "param_grid = randomForest_param_grid()\r\n",
        "print(param_grid)"
      ],
      "execution_count": null,
      "outputs": [
        {
          "output_type": "stream",
          "text": [
            "{'n_estimators': [300, 866, 1433, 2000], 'max_depth': [5, 40, 75, 110, None], 'min_samples_split': [1, 2, 3, 4], 'min_samples_leaf': [1, 2, 3, 4], 'bootstrap': [False]}\n"
          ],
          "name": "stdout"
        }
      ]
    },
    {
      "cell_type": "code",
      "metadata": {
        "id": "jh8WBWLg-Nuw"
      },
      "source": [
        "from sklearn.model_selection import GridSearchCV\r\n",
        "from sklearn.ensemble import RandomForestClassifier\r\n",
        "clf = RandomForestClassifier()\r\n",
        "grid_cv = GridSearchCV(estimator=clf,param_grid=param_grid,cv=3,verbose=0,n_jobs=3)\r\n",
        "grid_cv.fit(X_train, y_train)"
      ],
      "execution_count": null,
      "outputs": []
    },
    {
      "cell_type": "code",
      "metadata": {
        "colab": {
          "base_uri": "https://localhost:8080/"
        },
        "id": "2R1FZOThI7g3",
        "outputId": "c21da54f-4d0e-4e1f-9427-b85a71970a7a"
      },
      "source": [
        "print(grid_cv.best_params_)"
      ],
      "execution_count": null,
      "outputs": [
        {
          "output_type": "stream",
          "text": [
            "{'bootstrap': False, 'max_depth': 110, 'min_samples_leaf': 3, 'min_samples_split': 2, 'n_estimators': 300}\n"
          ],
          "name": "stdout"
        }
      ]
    },
    {
      "cell_type": "code",
      "metadata": {
        "id": "Jyxv3ObDyvm8"
      },
      "source": [
        ""
      ],
      "execution_count": null,
      "outputs": []
    },
    {
      "cell_type": "code",
      "metadata": {
        "colab": {
          "base_uri": "https://localhost:8080/"
        },
        "id": "aCYRaWbsX5Wy",
        "outputId": "b718fb60-3967-4f3e-dafb-30c4dd8cef68"
      },
      "source": [
        "#best_params = grid_cv.best_params_\r\n",
        "import pickle\r\n",
        "best_params = {'bootstrap': False, 'max_depth': 110, 'min_samples_leaf': 3, 'min_samples_split': 2, 'n_estimators': 300}\r\n",
        "rf_clf = get_classifier(X_train,y_train,'random-forest',best_params)\r\n",
        "filename = 'finalized_model.pkl'\r\n",
        "pickle.dump(rf_clf, open(filename, 'wb'))\r\n",
        "print(rf_clf)"
      ],
      "execution_count": null,
      "outputs": [
        {
          "output_type": "stream",
          "text": [
            "RandomForestClassifier(bootstrap=True, ccp_alpha=0.0, class_weight=None,\n",
            "                       criterion='gini', max_depth=110, max_features='auto',\n",
            "                       max_leaf_nodes=None, max_samples=None,\n",
            "                       min_impurity_decrease=0.0, min_impurity_split=None,\n",
            "                       min_samples_leaf=1, min_samples_split=2,\n",
            "                       min_weight_fraction_leaf=0.0, n_estimators=300,\n",
            "                       n_jobs=None, oob_score=False, random_state=None,\n",
            "                       verbose=0, warm_start=False)\n"
          ],
          "name": "stdout"
        }
      ]
    },
    {
      "cell_type": "code",
      "metadata": {
        "colab": {
          "base_uri": "https://localhost:8080/"
        },
        "id": "mZYFwv69YLP2",
        "outputId": "bc35f672-8c20-4885-bf01-6716e1180dc5"
      },
      "source": [
        "metrics = get_metrics(rf_clf,X_train,X_test,y_train,y_test)\r\n",
        "print(metrics)"
      ],
      "execution_count": null,
      "outputs": [
        {
          "output_type": "stream",
          "text": [
            "{'accuracy': 0.866, 'precision': 0.8605842285178271, 'recall': 0.866, 'f1_score': 0.8525240255138199}\n"
          ],
          "name": "stdout"
        }
      ]
    },
    {
      "cell_type": "code",
      "metadata": {
        "colab": {
          "base_uri": "https://localhost:8080/",
          "height": 442
        },
        "id": "syAITAi8zRbf",
        "outputId": "ae35368b-2afb-422c-dc7f-0d07fc9e893c"
      },
      "source": [
        "Y_rf_pred = rf_clf.predict(X_test)\r\n",
        "plot_confusion_matrix(y_test,Y_rf_pred)"
      ],
      "execution_count": null,
      "outputs": [
        {
          "output_type": "display_data",
          "data": {
            "image/png": "[encoded data removed]",
            "text/plain": [
              "<Figure size 720x504 with 2 Axes>"
            ]
          },
          "metadata": {
            "tags": [],
            "needs_background": "light"
          }
        }
      ]
    },
    {
      "cell_type": "markdown",
      "metadata": {
        "id": "NgjJpOfN0v5T"
      },
      "source": [
        "*We have total of 1000 test data..\r\n",
        "\r\n",
        "TN- 763 -- Actaully Not churned and predicted as also not churned\r\n",
        "\r\n",
        "FP - 24  - Will not churn actually but predicted as will churn\r\n",
        "\r\n",
        "FN - 110-- Will churn actually but predicted as will not churn\r\n",
        "\r\n",
        "TP - 103-- Will churn and predicted as churn\r\n",
        "\r\n",
        "So in our test data we have 213 instances where customers will churn but our current model is only able to predit 103 will churn and it labelled 110 as not churned which is not good**\r\n",
        "\r\n",
        "\r\n",
        "**Next We can try by oversampling the minority datapoints and improve our results**"
      ]
    },
    {
      "cell_type": "markdown",
      "metadata": {
        "id": "PyMJ8vUe2KlK"
      },
      "source": [
        "__OVERSAMPLING__"
      ]
    },
    {
      "cell_type": "code",
      "metadata": {
        "id": "4RuDzCCS2O3y"
      },
      "source": [
        "pip install imbalanced-learn"
      ],
      "execution_count": null,
      "outputs": []
    },
    {
      "cell_type": "code",
      "metadata": {
        "id": "YGquvUuT2WHY"
      },
      "source": [
        "from imblearn.over_sampling import SMOTE\r\n",
        "oversample = SMOTE()\r\n",
        "# y = data['Exited']\r\n",
        "# data.drop('Exited', axis=1, inplace=True)\r\n",
        "X_balanced,y_balanced = oversample.fit_resample(data,y)"
      ],
      "execution_count": null,
      "outputs": []
    },
    {
      "cell_type": "code",
      "metadata": {
        "colab": {
          "base_uri": "https://localhost:8080/"
        },
        "id": "6bKS8Pah2lWR",
        "outputId": "c2f07dd2-8af4-48ef-81ec-71aaf6b1721e"
      },
      "source": [
        "print(X_balanced.shape)\r\n",
        "print(y_balanced.shape)\r\n",
        "\r\n",
        "# check for 1 and 0 in Y\r\n",
        "y1 = [y2 for y2 in y_balanced if y2==1]\r\n",
        "print(f\" count of 1= {len(y1)}\")\r\n",
        "print(f\"Count of 0= {len(y_balanced)-len(y1)}\")"
      ],
      "execution_count": null,
      "outputs": [
        {
          "output_type": "stream",
          "text": [
            "(15926, 11)\n",
            "(15926,)\n",
            " count of 1= 7963\n",
            "Count of 0= 7963\n"
          ],
          "name": "stdout"
        }
      ]
    },
    {
      "cell_type": "markdown",
      "metadata": {
        "id": "SBCLEeYOWASt"
      },
      "source": [
        "**Here we can see that  we have equal number of points for both our class 0 and 1.**"
      ]
    },
    {
      "cell_type": "code",
      "metadata": {
        "id": "ZMZ9Lad_2pnt"
      },
      "source": [
        "from sklearn.model_selection import train_test_split\r\n",
        "X_train_bal,X_test_bal, Y_train_bal,Y_test_bal = train_test_split(X_balanced,y_balanced,stratify=y_balanced,test_size=0.2) # here we can increase the test size as our count has increased"
      ],
      "execution_count": null,
      "outputs": []
    },
    {
      "cell_type": "markdown",
      "metadata": {
        "id": "nr69_w3ciTK_"
      },
      "source": [
        "**Linear Model(Logistic Regression)**"
      ]
    },
    {
      "cell_type": "code",
      "metadata": {
        "colab": {
          "base_uri": "https://localhost:8080/"
        },
        "id": "5Rer1z8FiXkI",
        "outputId": "351968d3-6b4a-4356-be63-164b3c87693b"
      },
      "source": [
        "from sklearn.linear_model import LogisticRegression\r\n",
        "lr_clf = LogisticRegression()\r\n",
        "lr_clf.fit(X_train_bal,Y_train_bal)\r\n",
        "metrics = get_metrics(lr_clf,X_train_bal,X_test_bal, Y_train_bal,Y_test_bal)\r\n",
        "print(metrics)"
      ],
      "execution_count": null,
      "outputs": [
        {
          "output_type": "stream",
          "text": [
            "{'accuracy': 0.6622724419334589, 'precision': 0.6623748200448808, 'recall': 0.6622724419334589, 'f1_score': 0.6622191988251844}\n"
          ],
          "name": "stdout"
        }
      ]
    },
    {
      "cell_type": "markdown",
      "metadata": {
        "id": "tOafHP0Uiwym"
      },
      "source": [
        "**Random Forest**"
      ]
    },
    {
      "cell_type": "code",
      "metadata": {
        "colab": {
          "base_uri": "https://localhost:8080/"
        },
        "id": "Tf1n2qb52z1k",
        "outputId": "60773fcb-cc83-4586-e575-579cacab8fa0"
      },
      "source": [
        "rf_clf_bal = get_classifier(X_train_bal,Y_train_bal,'random-forest',best_params)\r\n",
        "print(rf_clf_bal)\r\n",
        "\r\n",
        "metrics_bal = get_metrics(rf_clf_bal,X_train_bal,X_test_bal,Y_train_bal,Y_test_bal)\r\n",
        "print(metrics_bal)"
      ],
      "execution_count": null,
      "outputs": [
        {
          "output_type": "stream",
          "text": [
            "RandomForestClassifier(bootstrap=True, ccp_alpha=0.0, class_weight=None,\n",
            "                       criterion='gini', max_depth=110, max_features='auto',\n",
            "                       max_leaf_nodes=None, max_samples=None,\n",
            "                       min_impurity_decrease=0.0, min_impurity_split=None,\n",
            "                       min_samples_leaf=1, min_samples_split=2,\n",
            "                       min_weight_fraction_leaf=0.0, n_estimators=300,\n",
            "                       n_jobs=None, oob_score=False, random_state=None,\n",
            "                       verbose=0, warm_start=False)\n",
            "{'accuracy': 0.9111738857501569, 'precision': 0.9138039753799295, 'recall': 0.9111738857501569, 'f1_score': 0.9110325190264076}\n"
          ],
          "name": "stdout"
        }
      ]
    },
    {
      "cell_type": "code",
      "metadata": {
        "colab": {
          "base_uri": "https://localhost:8080/",
          "height": 442
        },
        "id": "oTBY7Bov3Y9e",
        "outputId": "f68563d6-d646-4d5b-ab5e-b4be72bfc408"
      },
      "source": [
        "Y_rf_pred_bal = rf_clf.predict(X_test_bal)\r\n",
        "plot_confusion_matrix(Y_test_bal,Y_rf_pred_bal)"
      ],
      "execution_count": null,
      "outputs": [
        {
          "output_type": "display_data",
          "data": {
            "image/png": "[encoded data removed]",
            "text/plain": [
              "<Figure size 720x504 with 2 Axes>"
            ]
          },
          "metadata": {
            "tags": [],
            "needs_background": "light"
          }
        }
      ]
    },
    {
      "cell_type": "markdown",
      "metadata": {
        "id": "kJ6dF12aWt2O"
      },
      "source": [
        "TN- 1587 -- Actaully Not churned and predicted as also not churned\r\n",
        "\r\n",
        "FP - 6  - Will not churn actually but predicted as will churn\r\n",
        "\r\n",
        "FN - 479-- Will churn actually but predicted as will not churn\r\n",
        "\r\n",
        "TP - 1114 -- Will churn and predicted as churn"
      ]
    },
    {
      "cell_type": "markdown",
      "metadata": {
        "id": "SdZ2Lnz_W19B"
      },
      "source": [
        "FP is reduced but FN is 479 which is not good, as for 479 instances , model has predicted that a customer will not churn while actually the customer will churn.\r\n",
        "\r\n",
        "So, We can try another ensemble technique. Here i am using XGBOOST first without hyperparamter tuning and then with hyperparamter tuning."
      ]
    },
    {
      "cell_type": "markdown",
      "metadata": {
        "id": "HjIMvZWy6FxY"
      },
      "source": [
        "**XGBOOST**"
      ]
    },
    {
      "cell_type": "code",
      "metadata": {
        "id": "WROpt43G8Pak"
      },
      "source": [
        "pip install xgboost"
      ],
      "execution_count": null,
      "outputs": []
    },
    {
      "cell_type": "code",
      "metadata": {
        "colab": {
          "base_uri": "https://localhost:8080/"
        },
        "id": "sHLLOfQM8TTh",
        "outputId": "fd326a54-35cf-48f1-9349-4bdef212679c"
      },
      "source": [
        "from xgboost import XGBClassifier\r\n",
        "\r\n",
        "xgb_classifier = XGBClassifier()\r\n",
        "xgb_classifier.fit(X_train_bal,Y_train_bal)"
      ],
      "execution_count": null,
      "outputs": [
        {
          "output_type": "execute_result",
          "data": {
            "text/plain": [
              "XGBClassifier(base_score=0.5, booster='gbtree', colsample_bylevel=1,\n",
              "              colsample_bynode=1, colsample_bytree=1, gamma=0,\n",
              "              learning_rate=0.1, max_delta_step=0, max_depth=3,\n",
              "              min_child_weight=1, missing=None, n_estimators=100, n_jobs=1,\n",
              "              nthread=None, objective='binary:logistic', random_state=0,\n",
              "              reg_alpha=0, reg_lambda=1, scale_pos_weight=1, seed=None,\n",
              "              silent=None, subsample=1, verbosity=1)"
            ]
          },
          "metadata": {
            "tags": []
          },
          "execution_count": 23
        }
      ]
    },
    {
      "cell_type": "code",
      "metadata": {
        "colab": {
          "base_uri": "https://localhost:8080/"
        },
        "id": "fLsZQ0jC83oM",
        "outputId": "16c527a7-2e2e-4cae-d387-4aad778f3d21"
      },
      "source": [
        "metrics_xgb = get_metrics(xgb_classifier,X_train_bal,X_test_bal,Y_train_bal,Y_test_bal)\r\n",
        "print(metrics_xgb)"
      ],
      "execution_count": null,
      "outputs": [
        {
          "output_type": "stream",
          "text": [
            "{'accuracy': 0.9023854362837413, 'precision': 0.9059368351084977, 'recall': 0.9023854362837413, 'f1_score': 0.9021714694184024}\n"
          ],
          "name": "stdout"
        }
      ]
    },
    {
      "cell_type": "code",
      "metadata": {
        "colab": {
          "base_uri": "https://localhost:8080/",
          "height": 442
        },
        "id": "AZznNyCR9JpM",
        "outputId": "259aaa21-1c65-403b-bcde-bdbfc8b56f1d"
      },
      "source": [
        "y_pred_xgb = xgb_classifier.predict(X_test_bal)\r\n",
        "plot_confusion_matrix(Y_test_bal,y_pred_xgb)"
      ],
      "execution_count": null,
      "outputs": [
        {
          "output_type": "display_data",
          "data": {
            "image/png": "[encoded data removed]",
            "text/plain": [
              "<Figure size 720x504 with 2 Axes>"
            ]
          },
          "metadata": {
            "tags": [],
            "needs_background": "light"
          }
        }
      ]
    },
    {
      "cell_type": "markdown",
      "metadata": {
        "id": "TXI0DHvhXrLs"
      },
      "source": [
        "TN- 1512 -- Actaully Not churned and predicted as also not churned\r\n",
        "\r\n",
        "FP - 81  - Will not churn actually but predicted as will churn\r\n",
        "\r\n",
        "FN - 231 -- Will churn actually but predicted as will not churn\r\n",
        "\r\n",
        "TP - 1363 -- Will churn and predicted as churn\r\n",
        "\r\n",
        "**SO here our TN has reduced to 230 from 479 and out TP has also increased. We can further try with hyperparameter tuning**"
      ]
    },
    {
      "cell_type": "markdown",
      "metadata": {
        "id": "U7kDyMLdUE4O"
      },
      "source": [
        "**Hyperparameter Tuning For XGB**"
      ]
    },
    {
      "cell_type": "code",
      "metadata": {
        "id": "biqSs7Mz-8T7"
      },
      "source": [
        "grid_cv = GridSearchCV(estimator=xgb_classifier,param_grid=param_grid,cv=3,verbose=1,n_jobs=3)\r\n",
        "grid_cv.fit(X_train_bal, Y_train_bal)"
      ],
      "execution_count": null,
      "outputs": []
    },
    {
      "cell_type": "code",
      "metadata": {
        "colab": {
          "base_uri": "https://localhost:8080/"
        },
        "id": "XA2MtvuMmAVo",
        "outputId": "0a0d091f-3371-4eec-96af-ab0de0569a21"
      },
      "source": [
        "print(grid_cv.best_params_)"
      ],
      "execution_count": null,
      "outputs": [
        {
          "output_type": "stream",
          "text": [
            "{'bootstrap': False, 'max_depth': 5, 'min_samples_leaf': 1, 'min_samples_split': 1, 'n_estimators': 300}\n"
          ],
          "name": "stdout"
        }
      ]
    },
    {
      "cell_type": "code",
      "metadata": {
        "id": "rngaOmx2qd-c"
      },
      "source": [
        "from xgboost import XGBClassifier\r\n",
        "import pickle\r\n",
        "xgb_classifier = XGBClassifier(bootstrap=False, max_depth=5, min_samples_leaf=1, min_samples_split=1, n_estimators=300)\r\n",
        "xgb_classifier.fit(X_train_bal,Y_train_bal)\r\n",
        "filename = 'finalized_model.pkl'\r\n",
        "pickle.dump(xgb_classifier, open(filename, 'wb'))"
      ],
      "execution_count": null,
      "outputs": []
    },
    {
      "cell_type": "code",
      "metadata": {
        "colab": {
          "base_uri": "https://localhost:8080/"
        },
        "id": "YAZhlT6QVcAy",
        "outputId": "1f7054cf-105c-49a5-8ac7-9419b655da50"
      },
      "source": [
        "metrics_xgb = get_metrics(xgb_classifier,X_train_bal,X_test_bal,Y_train_bal,Y_test_bal)\r\n",
        "print(metrics_xgb)"
      ],
      "execution_count": null,
      "outputs": [
        {
          "output_type": "stream",
          "text": [
            "{'accuracy': 0.9143126177024482, 'precision': 0.9153340749495933, 'recall': 0.9143126177024482, 'f1_score': 0.914259901196281}\n"
          ],
          "name": "stdout"
        }
      ]
    },
    {
      "cell_type": "code",
      "metadata": {
        "colab": {
          "base_uri": "https://localhost:8080/",
          "height": 442
        },
        "id": "U6Nz0g02VgO9",
        "outputId": "2080926b-0712-4baf-d987-d1d4232b9524"
      },
      "source": [
        "y_pred_xgb = xgb_classifier.predict(X_test_bal)\r\n",
        "plot_confusion_matrix(Y_test_bal,y_pred_xgb)"
      ],
      "execution_count": null,
      "outputs": [
        {
          "output_type": "display_data",
          "data": {
            "image/png": "[encoded data removed]",
            "text/plain": [
              "<Figure size 720x504 with 2 Axes>"
            ]
          },
          "metadata": {
            "tags": [],
            "needs_background": "light"
          }
        }
      ]
    },
    {
      "cell_type": "markdown",
      "metadata": {
        "id": "x5ZCImpwYMbA"
      },
      "source": [
        "TN- 1496 -- Actaully Not churned and predicted as also not churned\r\n",
        "\r\n",
        "FP - 97  - Will not churn actually but predicted as will churn\r\n",
        "\r\n",
        "FN - 176 -- Will churn actually but predicted as will not churn\r\n",
        "\r\n",
        "TP - 1417  -- Will churn and predicted as churn\r\n",
        "\r\n",
        "**After doing hyperparamter tuning on xgboost we have improved further in reducing FN from 230 to 176 and increased TP from 1376 to 1417**"
      ]
    },
    {
      "cell_type": "markdown",
      "metadata": {
        "id": "0nM4ZAjRa_sW"
      },
      "source": [
        "**Feature Importance**"
      ]
    },
    {
      "cell_type": "code",
      "metadata": {
        "colab": {
          "base_uri": "https://localhost:8080/",
          "height": 264
        },
        "id": "M61D-B7jbDbZ",
        "outputId": "34074f44-8cb6-4173-fded-34e097e0dde0"
      },
      "source": [
        "plot_feature_importances(xgb_classifier, data)"
      ],
      "execution_count": null,
      "outputs": [
        {
          "output_type": "display_data",
          "data": {
            "image/png": "[encoded data removed]",
            "text/plain": [
              "<Figure size 432x288 with 1 Axes>"
            ]
          },
          "metadata": {
            "tags": [],
            "needs_background": "light"
          }
        }
      ]
    },
    {
      "cell_type": "markdown",
      "metadata": {
        "id": "lIlLXMBLbWQa"
      },
      "source": [
        "We can see that for the best model we have the feature importances in decreasing order of importance are \r\n",
        "1. IsActiveMember\r\n",
        "2. Gender\r\n",
        "3. NumOfProducts\r\n",
        "4. Geography\r\n",
        "5. Age"
      ]
    },
    {
      "cell_type": "markdown",
      "metadata": {
        "id": "LbJCVM4vgR3g"
      },
      "source": [
        "**ADABOOST**"
      ]
    },
    {
      "cell_type": "code",
      "metadata": {
        "colab": {
          "base_uri": "https://localhost:8080/"
        },
        "id": "UR-H29BpgUgm",
        "outputId": "15a2d302-c9ca-4b9a-c870-98ed9dbce461"
      },
      "source": [
        "from sklearn.ensemble import AdaBoostClassifier\r\n",
        "adaboost_clf = AdaBoostClassifier(n_estimators=100, random_state=0)\r\n",
        "# X_train_bal,X_test_bal, Y_train_bal,Y_test_bal\r\n",
        "adaboost_clf.fit(X_train_bal,Y_train_bal)\r\n",
        "metrics = get_metrics(adaboost_clf,X_train_bal,X_test_bal, Y_train_bal,Y_test_bal)\r\n",
        "print(metrics)\r\n"
      ],
      "execution_count": null,
      "outputs": [
        {
          "output_type": "stream",
          "text": [
            "{'accuracy': 0.8876333961079724, 'precision': 0.8886134868596491, 'recall': 0.8876333961079724, 'f1_score': 0.8875625037213397}\n"
          ],
          "name": "stdout"
        }
      ]
    },
    {
      "cell_type": "code",
      "metadata": {
        "colab": {
          "base_uri": "https://localhost:8080/",
          "height": 458
        },
        "id": "UTBLF-ROhooX",
        "outputId": "eb3cb3d6-77dd-4789-eea0-8a146f4ef08d"
      },
      "source": [
        "print(\"confusion Matrix for adaboost\")\r\n",
        "y_pred_adaboost = adaboost_clf.predict(X_test_bal)\r\n",
        "plot_confusion_matrix(Y_test_bal,y_pred_adaboost)\r\n"
      ],
      "execution_count": null,
      "outputs": [
        {
          "output_type": "stream",
          "text": [
            "confusion Matrix for adaboost\n"
          ],
          "name": "stdout"
        },
        {
          "output_type": "display_data",
          "data": {
            "image/png": "[encoded data removed]",
            "text/plain": [
              "<Figure size 720x504 with 2 Axes>"
            ]
          },
          "metadata": {
            "tags": [],
            "needs_background": "light"
          }
        }
      ]
    },
    {
      "cell_type": "markdown",
      "metadata": {
        "id": "xXlg2if-zSjg"
      },
      "source": [
        "**CUSTOM ENSEMBLE MODEL**"
      ]
    },
    {
      "cell_type": "code",
      "metadata": {
        "id": "YJYXB02Lzk8R"
      },
      "source": [
        "import pandas as pd\r\n",
        "import numpy as np\r\n",
        "from sklearn.model_selection import train_test_split"
      ],
      "execution_count": null,
      "outputs": []
    },
    {
      "cell_type": "markdown",
      "metadata": {
        "id": "mb25V4W0zyea"
      },
      "source": [
        "1) Split your whole data into train and test(80-20)\r\n",
        "\r\n",
        "2) Now in the 80% train set, split the train set into D1 and D2.(50-50).\r\n",
        "Now from this D1 do sampling with replacement to create d1,d2,d3....dk(k samples).\r\n",
        "Now create 'k' models and train each of these models with each of these k samples.\r\n",
        "\r\n",
        "\r\n",
        "3) Now pass the D2 set to each of these k models, now you will get k predictions for D2, from each of these models.\r\n",
        "\r\n",
        "\r\n",
        "\r\n",
        "4) Now using these k predictions create a new dataset, and for D2, you already know its corresponding target values, \r\n",
        "so now you train a meta-model with these k predictions.\r\n",
        "\r\n",
        "\r\n",
        "\r\n",
        "\r\n",
        "\r\n",
        "5) Now for model evaluation, you have can use the 20% data that you have kept as the test set.\r\n",
        " Pass that test set to each of the base models and you will get 'k' predictions. Now you create a new dataset \r\n",
        " with these k predictions and pass it to your metamodel and you will get the final prediction. Now using this\r\n",
        "  final prediction as well as the targets for the test set, you can calculate the models performance score.\r\n"
      ]
    },
    {
      "cell_type": "code",
      "metadata": {
        "id": "2CV3KWuJpn3q"
      },
      "source": [
        "from sklearn.tree import DecisionTreeClassifier\r\n",
        "from xgboost import XGBClassifier\r\n",
        "from sklearn.metrics import accuracy_score\r\n",
        "\r\n",
        "def custom_ensemble(X_train,Y_train,X_test, n_estimators):\r\n",
        "  datasets = []\r\n",
        "  base_models=[]\r\n",
        "  D1_X,D2_X,D1_Y,D2_Y = train_test_split(X_train, Y_train, stratify=Y_train, test_size=0.5)\r\n",
        "  D1 = pd.concat([D1_X,D1_Y], axis=1)\r\n",
        "  for i in range(0, n_estimators):\r\n",
        "    sampled_data = sampling_with_replacement(D1,2000)\r\n",
        "    datasets.append(sampled_data)\r\n",
        "  \r\n",
        "\r\n",
        "  ## Training base models on  random samples\r\n",
        "  for data in datasets:\r\n",
        "    y = data['Exited']\r\n",
        "    data = data.drop('Exited', axis=1)\r\n",
        "    clf = DecisionTreeClassifier()\r\n",
        "    clf.fit(data,y)\r\n",
        "    base_models.append(clf)\r\n",
        "\r\n",
        "  # getting predictions for D2 from all base models\r\n",
        "  predictions = []\r\n",
        "  for model in base_models:\r\n",
        "    predictions.append(model.predict(D2_X))\r\n",
        "\r\n",
        "  # create a new Dataset from these predictions\r\n",
        "\r\n",
        "  D_meta = pd.DataFrame()\r\n",
        "  for prediction in predictions:\r\n",
        "    D_meta = pd.concat([D_meta,pd.DataFrame(prediction)], axis=1)\r\n",
        "\r\n",
        "  # giving column name to D_meta\r\n",
        "\r\n",
        "  col_names = []\r\n",
        "  for i in range(0,len(predictions)):\r\n",
        "    name = f\"col_{i}\"\r\n",
        "    col_names.append(name)\r\n",
        "\r\n",
        "  D_meta.columns = col_names\r\n",
        "\r\n",
        "  # Now training a meta_model on these predictions\r\n",
        "  xgb = XGBClassifier()\r\n",
        "  xgb.fit(D_meta,D2_Y)\r\n",
        "  meta_model = xgb\r\n",
        "\r\n",
        "  # model evaluation using X_test\r\n",
        "  test_predictions = []\r\n",
        "  D_meta_test = pd.DataFrame()\r\n",
        "  for model in base_models:\r\n",
        "    prediction = model.predict(X_test)\r\n",
        "    test_predictions.append(prediction)\r\n",
        "\r\n",
        "  D_meta_test = pd.DataFrame()\r\n",
        "  for prediction in test_predictions:\r\n",
        "    D_meta_test = pd.concat([D_meta_test,pd.DataFrame(prediction)], axis=1)\r\n",
        "\r\n",
        "  col_names= []\r\n",
        "  for i in range(0,len(test_predictions)):\r\n",
        "    name = f\"col_{i}\"\r\n",
        "    col_names.append(name)\r\n",
        "  \r\n",
        "  D_meta_test.columns = col_names\r\n",
        "\r\n",
        "  final_prediction = meta_model.predict(D_meta_test)\r\n",
        "  return final_prediction"
      ],
      "execution_count": null,
      "outputs": []
    },
    {
      "cell_type": "code",
      "metadata": {
        "colab": {
          "base_uri": "https://localhost:8080/"
        },
        "id": "urHSS01Oyqad",
        "outputId": "6409e832-bd08-4032-edcc-3d038bad7806"
      },
      "source": [
        "file_path = '/content/Churn Modeling.csv'\r\n",
        "n_estimators = [100,200,300,400,450,500]\r\n",
        "acc_arr = []\r\n",
        "data = pd.read_csv(file_path)\r\n",
        "y = data['Exited']\r\n",
        "data = data.drop('Exited', axis=1)\r\n",
        "data.drop('Surname', axis=1, inplace=True)\r\n",
        "data.drop('CustomerId', axis=1,inplace=True)\r\n",
        "data.drop('RowNumber', axis=1, inplace=True)\r\n",
        "\r\n",
        "## handling categorical columns\r\n",
        "data['Gender'].replace({'Female':1, 'Male':0}, inplace=True) \r\n",
        "data['Geography'].replace({'France':0, 'Germany':1, 'Spain':2}, inplace=True)\r\n",
        "data['isOverSpending'] = data['Balance']>data['EstimatedSalary']\r\n",
        "data['isOverSpending'].replace({False:0,True:1}, inplace=True)\r\n",
        "# train-test(80-20)\r\n",
        "X_train, X_test, Y_train, Y_test = train_test_split(data, y , stratify=y, test_size=0.2)\r\n",
        "acc_arr = []\r\n",
        "for n_estimator in n_estimators:\r\n",
        "  pred = custom_ensemble(X_train, Y_train, X_test, n_estimator)\r\n",
        "  acc = accuracy_score(Y_test, pred)\r\n",
        "  acc_arr.append(acc)\r\n",
        "\r\n",
        "print(acc_arr)\r\n"
      ],
      "execution_count": null,
      "outputs": [
        {
          "output_type": "stream",
          "text": [
            "[0.8505, 0.8515, 0.8525, 0.8545, 0.8535, 0.862]\n"
          ],
          "name": "stdout"
        }
      ]
    },
    {
      "cell_type": "markdown",
      "metadata": {
        "id": "5qPVV89eyH08"
      },
      "source": [
        "**For n_estimator 500 i got max accuracy 0.862**"
      ]
    },
    {
      "cell_type": "code",
      "metadata": {
        "id": "RuUYMHGv4O2G"
      },
      "source": [
        "def sampling_with_replacement(data,num_of_rows):\r\n",
        "  sampled_data = data.sample(n=num_of_rows , replace=True)\r\n",
        "  return sampled_data"
      ],
      "execution_count": null,
      "outputs": []
    },
    {
      "cell_type": "markdown",
      "metadata": {
        "id": "0Z-xp88mji-V"
      },
      "source": [
        "**Summary Of All Models**"
      ]
    },
    {
      "cell_type": "code",
      "metadata": {
        "colab": {
          "base_uri": "https://localhost:8080/"
        },
        "id": "mGSYySBJje1K",
        "outputId": "ae2f28f2-f254-4e6b-bd67-795015b79c82"
      },
      "source": [
        "from prettytable import PrettyTable \r\n",
        "conclusion = PrettyTable([\"DataSet(Balanced/Imbalanced)\", \"Classifier\", \"Accuracy\", \"Precision\", \"Recall\", \"F1 score\"])\r\n",
        "conclusion.add_row([\"ImBalanced\",\"XGB Classifier\", 0.902385, 0.905936,0.90238543,0.9021714])\r\n",
        "conclusion.add_row([\"Balanced\",\"XGB Classifier\", 0.9143126,0.9153340,0.9143126, 0.914259901])\r\n",
        "conclusion.add_row([\"ImBalanced\",\"RandomForest\", 0.866, 0.860584,0.866, 0.8525240255138199])\r\n",
        "conclusion.add_row([\"ImBalanced\",\"Custom Ensemble \", \"0.862\\n (Number of base learners=500{ this should be random})\",\"NA\",\"NA\",\"NA\"])\r\n",
        "conclusion.add_row([\"Balanced\",\"RandomForest\",  0.911173885, 0.913803975, 0.9111738857, 0.9110325190])\r\n",
        "conclusion.add_row([\"Balanced\",\"ADABOOST\",  0.8876333961079724,  0.8886134868596491,  0.8876333961079724,  0.8875625037213397])\r\n",
        "conclusion.add_row([\"Balanced\",\"LogisticRegression\",   0.6622724419334589,0.6623748200448808,0.6622724419334589,0.6622191988251844])\r\n",
        "\r\n",
        "print(conclusion)"
      ],
      "execution_count": null,
      "outputs": [
        {
          "output_type": "stream",
          "text": [
            "+------------------------------+--------------------+--------------------------------------------------------+--------------------+--------------------+--------------------+\n",
            "| DataSet(Balanced/Imbalanced) |     Classifier     |                        Accuracy                        |     Precision      |       Recall       |      F1 score      |\n",
            "+------------------------------+--------------------+--------------------------------------------------------+--------------------+--------------------+--------------------+\n",
            "|          ImBalanced          |   XGB Classifier   |                        0.902385                        |      0.905936      |     0.90238543     |     0.9021714      |\n",
            "|           Balanced           |   XGB Classifier   |                       0.9143126                        |      0.915334      |     0.9143126      |    0.914259901     |\n",
            "|          ImBalanced          |    RandomForest    |                         0.866                          |      0.860584      |       0.866        | 0.8525240255138199 |\n",
            "|          ImBalanced          |  Custom Ensemble   |                         0.862                          |         NA         |         NA         |         NA         |\n",
            "|                              |                    |  (Number of base learners=500{ this should be random}) |                    |                    |                    |\n",
            "|           Balanced           |    RandomForest    |                      0.911173885                       |    0.913803975     |    0.9111738857    |    0.911032519     |\n",
            "|           Balanced           |      ADABOOST      |                   0.8876333961079724                   | 0.8886134868596491 | 0.8876333961079724 | 0.8875625037213397 |\n",
            "|           Balanced           | LogisticRegression |                   0.6622724419334589                   | 0.6623748200448808 | 0.6622724419334589 | 0.6622191988251844 |\n",
            "+------------------------------+--------------------+--------------------------------------------------------+--------------------+--------------------+--------------------+\n"
          ],
          "name": "stdout"
        }
      ]
    },
    {
      "cell_type": "markdown",
      "metadata": {
        "id": "wjIp3MRwvHGq"
      },
      "source": [
        "**Final Methods (Final Submission)**"
      ]
    },
    {
      "cell_type": "code",
      "metadata": {
        "id": "zw32oh-s7Oua"
      },
      "source": [
        "# creating a Custom Exception so that whenever a wrong dataframe is passed it will give an exception\r\n",
        "class ColumnNotKnownError(Exception):\r\n",
        "  def __init__(self, message):\r\n",
        "    self.message = message\r\n",
        "    print(self.message)"
      ],
      "execution_count": null,
      "outputs": []
    },
    {
      "cell_type": "code",
      "metadata": {
        "id": "FO0vtrJ4vQ6k"
      },
      "source": [
        "def final_prediction(data):   \r\n",
        "   '''\r\n",
        "       This method is to get the  prediction of a single datapoint\r\n",
        "       This will take a dataframe of the actual raw data(without target variables) with only one row\r\n",
        "\r\n",
        "       If the dataframe provided contains any new column  which is not present in the data on which my model is trained\r\n",
        "      then it will raise a custom Exception giving a message that particular column is not present while training\r\n",
        "\r\n",
        "      Then It will preprocess the data as done while training and then use the model to predict and will return the prediction\r\n",
        "\r\n",
        "      Input: - \r\n",
        "             1) A Dataframe with only one records.\r\n",
        "             \r\n",
        "\r\n",
        "      output: - \r\n",
        "             1) Predicted value of the given datapoint.\r\n",
        "   '''\r\n",
        "\r\n",
        "\r\n",
        "\r\n",
        "\r\n",
        "  # checking if we get correct dataframe with all the columns that our model is trained on\r\n",
        "  original_cols = ['RowNumber','CustomerId','Surname','CreditScore','Geography','Gender','Age','Tenure','Balance','NumOfProducts','HasCrCard','IsActiveMember','EstimatedSalary']\r\n",
        "  current_cols = data.columns.values\r\n",
        "\r\n",
        "  for col in current_cols:\r\n",
        "    if col not in  original_cols:\r\n",
        "      raise ColumnNotKnownError(f\"{col} not found in data on which model was trained.. Please change your data\")\r\n",
        "\r\n",
        "\r\n",
        "   \r\n",
        "  # preprocess data like as we did on train data\r\n",
        "  # removing unwanted columns\r\n",
        "  data.drop('Surname', axis=1,inplace=True) \r\n",
        "  data.drop('CustomerId', axis=1,inplace=True)\r\n",
        "  data.drop('RowNumber', axis=1, inplace=True)\r\n",
        "\r\n",
        "  # adding one more feature Isoverspending as done while training\r\n",
        "\r\n",
        "  data['isOverSpending'] = data['Balance']>data['EstimatedSalary']\r\n",
        "\r\n",
        "  # converting  categorical columns to Numeric using label encoding\r\n",
        "\r\n",
        "  data['Gender'].replace({'Female':1, 'Male':0}, inplace=True) \r\n",
        "  data['Geography'].replace({'France':0, 'Germany':1, 'Spain':2}, inplace=True)\r\n",
        "  data['isOverSpending'].replace({False:0,True:1}, inplace=True)\r\n",
        "\r\n",
        "  predict = rf_clf.predict(data)\r\n",
        "  return predict"
      ],
      "execution_count": null,
      "outputs": []
    },
    {
      "cell_type": "code",
      "metadata": {
        "id": "1vdDeMan9I_7"
      },
      "source": [
        "from sklearn.metrics import accuracy_score, precision_score, recall_score, f1_score\r\n",
        "def final_metrics(data,Y):\r\n",
        "   \r\n",
        "   '''\r\n",
        "       This method is to get the metrics of prediction of the model and actual truth value.\r\n",
        "       This will take a dataframe of the actual raw data(without target variables) and their corresponding truth value.\r\n",
        "\r\n",
        "       If the dataframe provided contains any new column  which is not present in the data on which my model is trained\r\n",
        "      then it will raise a custom Exception giving a message that particular column is not present while training\r\n",
        "\r\n",
        "      Then It will preprocess the data as done while training and then use the model to predict and from the predicted value will \r\n",
        "      calculate all the metrics.\r\n",
        "\r\n",
        "      Input: - \r\n",
        "             1) A Dataframe\r\n",
        "             2) Y [Acutal Truth Values]\r\n",
        "\r\n",
        "      output: - \r\n",
        "             1) A dictionary which have key as the metric name example accuracy, precision  and value as the metric value on the given data\r\n",
        "   \r\n",
        "   '''\r\n",
        "\r\n",
        "\r\n",
        "  \r\n",
        "  original_cols = ['RowNumber','CustomerId','Surname','CreditScore','Geography','Gender','Age','Tenure','Balance','NumOfProducts','HasCrCard','IsActiveMember','EstimatedSalary']\r\n",
        "  current_cols = data.columns.values\r\n",
        " \r\n",
        "  # checking if the given dataframe contains any columns that are not in the data on which my model is trained.\r\n",
        "  for col in current_cols:\r\n",
        "    if col not in  original_cols:\r\n",
        "      raise ColumnNotKnownError(f\"{col} not found in data on which model was trained.. Please change your data\")\r\n",
        "\r\n",
        "\r\n",
        "   \r\n",
        "  # preprocess data like as we did on train data\r\n",
        "  # removing unwanted columns\r\n",
        "  data.drop('Surname', axis=1,inplace=True) \r\n",
        "  data.drop('CustomerId', axis=1,inplace=True)\r\n",
        "  data.drop('RowNumber', axis=1, inplace=True)\r\n",
        "\r\n",
        "  # adding one more feature Isoverspending as done while training\r\n",
        "\r\n",
        "  data['isOverSpending'] = data['Balance']>data['EstimatedSalary']\r\n",
        "\r\n",
        "  # converting  categorical columns to Numeric using label encoding\r\n",
        "\r\n",
        "  data['Gender'].replace({'Female':1, 'Male':0}, inplace=True) \r\n",
        "  data['Geography'].replace({'France':0, 'Germany':1, 'Spain':2}, inplace=True)\r\n",
        "  data['isOverSpending'].replace({False:0,True:1}, inplace=True)\r\n",
        "\r\n",
        "  predict = rf_clf.predict(data)\r\n",
        "  metrics = dict()\r\n",
        "  accuracy = accuracy_score(Y,predict)\r\n",
        "  precision= precision_score(Y,predict, average='weighted')\r\n",
        "  recall = recall_score(Y,predict,average='weighted')\r\n",
        "  f1_scores = f1_score(Y,predict,average='weighted')\r\n",
        "  \r\n",
        "  # creating metrics dict\r\n",
        "  metrics = dict()\r\n",
        "  metrics['accuracy'] = accuracy\r\n",
        "  # metrics['auc_test'] = auc_test\r\n",
        "  # metrics['auc_train'] = auc_train\r\n",
        "  metrics['precision'] = precision\r\n",
        "  metrics['recall'] = recall\r\n",
        "  metrics['f1_score'] = f1_scores\r\n",
        "\r\n",
        "  return metrics\r\n",
        "\r\n"
      ],
      "execution_count": null,
      "outputs": []
    },
    {
      "cell_type": "markdown",
      "metadata": {
        "id": "Mm232zjY-suK"
      },
      "source": [
        "**Testing method final_prediction**"
      ]
    },
    {
      "cell_type": "code",
      "metadata": {
        "colab": {
          "base_uri": "https://localhost:8080/"
        },
        "id": "OhaCKSi-zFv2",
        "outputId": "458437b7-6a62-4df5-9766-68c4ccc1d2f4"
      },
      "source": [
        "# creating dataframe for 1 record\r\n",
        "\r\n",
        "columns = ['RowNumber','CustomerId','Surname','CreditScore','Geography','Gender','Age','Tenure','Balance','NumOfProducts','HasCrCard','IsActiveMember','EstimatedSalary']\r\n",
        "# columns = ['RowNumber','CustomerId','Surname','CreditScore','Geography','Gender','Age','Tenure','Balance','NumOfProducts','HasCrCard','IsActiveMember','EstimatedSalary']\r\n",
        "\r\n",
        "values =[1,15634602,'Hargrave',619,'France','Female',42,2,0,1,1,1,101348.88]\r\n",
        "\r\n",
        "test_record = dict()\r\n",
        "for index,col in enumerate(columns):\r\n",
        "  test_record[col] = [values[index]]\r\n",
        "\r\n",
        "test_df = pd.DataFrame.from_dict(test_record,orient='columns')\r\n",
        "\r\n",
        "prediction = final_prediction(test_df)\r\n",
        "print(prediction)\r\n",
        "if prediction == 1:\r\n",
        "  print(\"This customer Will Churn\")\r\n",
        "else:\r\n",
        "  print(\"This customer Will Not Churn\")\r\n"
      ],
      "execution_count": null,
      "outputs": [
        {
          "output_type": "stream",
          "text": [
            "[1]\n",
            "This customer Will Churn\n"
          ],
          "name": "stdout"
        }
      ]
    },
    {
      "cell_type": "code",
      "metadata": {
        "colab": {
          "base_uri": "https://localhost:8080/",
          "height": 337
        },
        "id": "HJrhWJ6n72tw",
        "outputId": "d97e2e30-2a0e-4db3-b6a9-b87b4e9b9f18"
      },
      "source": [
        "# creating dataframe for 1 record\r\n",
        "# testing by passing an unknown column so that it will fail giving an error message\r\n",
        "columns = ['RowNumber','CustomerId','Surname','CreditScore','Geography','unknown_col','Gender','Age','Tenure','Balance','NumOfProducts','HasCrCard','IsActiveMember','EstimatedSalary']\r\n",
        "# columns = ['RowNumber','CustomerId','Surname','CreditScore','Geography','Gender','Age','Tenure','Balance','NumOfProducts','HasCrCard','IsActiveMember','EstimatedSalary']\r\n",
        "\r\n",
        "values =[1,15634602,'Hargrave',619,'France',3,'Female',42,2,0,1,1,1,101348.88]\r\n",
        "\r\n",
        "test_record = dict()\r\n",
        "for index,col in enumerate(columns):\r\n",
        "  test_record[col] = [values[index]]\r\n",
        "\r\n",
        "test_df = pd.DataFrame.from_dict(test_record,orient='columns')\r\n",
        "\r\n",
        "prediction = final_prediction(test_df)\r\n",
        "print(prediction)\r\n"
      ],
      "execution_count": null,
      "outputs": [
        {
          "output_type": "stream",
          "text": [
            "unknown_col not found in data on which model was trained.. Please change your data\n"
          ],
          "name": "stdout"
        },
        {
          "output_type": "error",
          "ename": "ColumnNotKnownError",
          "evalue": "ignored",
          "traceback": [
            "\u001b[0;31m---------------------------------------------------------------------------\u001b[0m",
            "\u001b[0;31mColumnNotKnownError\u001b[0m                       Traceback (most recent call last)",
            "\u001b[0;32m<ipython-input-21-8700216ce787>\u001b[0m in \u001b[0;36m<module>\u001b[0;34m()\u001b[0m\n\u001b[1;32m     12\u001b[0m \u001b[0mtest_df\u001b[0m \u001b[0;34m=\u001b[0m \u001b[0mpd\u001b[0m\u001b[0;34m.\u001b[0m\u001b[0mDataFrame\u001b[0m\u001b[0;34m.\u001b[0m\u001b[0mfrom_dict\u001b[0m\u001b[0;34m(\u001b[0m\u001b[0mtest_record\u001b[0m\u001b[0;34m,\u001b[0m\u001b[0morient\u001b[0m\u001b[0;34m=\u001b[0m\u001b[0;34m'columns'\u001b[0m\u001b[0;34m)\u001b[0m\u001b[0;34m\u001b[0m\u001b[0;34m\u001b[0m\u001b[0m\n\u001b[1;32m     13\u001b[0m \u001b[0;34m\u001b[0m\u001b[0m\n\u001b[0;32m---> 14\u001b[0;31m \u001b[0mprediction\u001b[0m \u001b[0;34m=\u001b[0m \u001b[0mfinal_prediction\u001b[0m\u001b[0;34m(\u001b[0m\u001b[0mtest_df\u001b[0m\u001b[0;34m)\u001b[0m\u001b[0;34m\u001b[0m\u001b[0;34m\u001b[0m\u001b[0m\n\u001b[0m\u001b[1;32m     15\u001b[0m \u001b[0mprint\u001b[0m\u001b[0;34m(\u001b[0m\u001b[0mprediction\u001b[0m\u001b[0;34m)\u001b[0m\u001b[0;34m\u001b[0m\u001b[0;34m\u001b[0m\u001b[0m\n",
            "\u001b[0;32m<ipython-input-18-8ceae03d924e>\u001b[0m in \u001b[0;36mfinal_prediction\u001b[0;34m(data)\u001b[0m\n\u001b[1;32m      6\u001b[0m   \u001b[0;32mfor\u001b[0m \u001b[0mcol\u001b[0m \u001b[0;32min\u001b[0m \u001b[0mcurrent_cols\u001b[0m\u001b[0;34m:\u001b[0m\u001b[0;34m\u001b[0m\u001b[0;34m\u001b[0m\u001b[0m\n\u001b[1;32m      7\u001b[0m     \u001b[0;32mif\u001b[0m \u001b[0mcol\u001b[0m \u001b[0;32mnot\u001b[0m \u001b[0;32min\u001b[0m  \u001b[0moriginal_cols\u001b[0m\u001b[0;34m:\u001b[0m\u001b[0;34m\u001b[0m\u001b[0;34m\u001b[0m\u001b[0m\n\u001b[0;32m----> 8\u001b[0;31m       \u001b[0;32mraise\u001b[0m \u001b[0mColumnNotKnownError\u001b[0m\u001b[0;34m(\u001b[0m\u001b[0;34mf\"{col} not found in data on which model was trained.. Please change your data\"\u001b[0m\u001b[0;34m)\u001b[0m\u001b[0;34m\u001b[0m\u001b[0;34m\u001b[0m\u001b[0m\n\u001b[0m\u001b[1;32m      9\u001b[0m \u001b[0;34m\u001b[0m\u001b[0m\n\u001b[1;32m     10\u001b[0m \u001b[0;34m\u001b[0m\u001b[0m\n",
            "\u001b[0;31mColumnNotKnownError\u001b[0m: unknown_col not found in data on which model was trained.. Please change your data"
          ]
        }
      ]
    },
    {
      "cell_type": "markdown",
      "metadata": {
        "id": "Hc9QEjbCeonm"
      },
      "source": [
        "**This Error is done intentionally to show what will happen if wrong dataframe is given.**"
      ]
    },
    {
      "cell_type": "markdown",
      "metadata": {
        "id": "NCHcHDY0-yoN"
      },
      "source": [
        "**Testing method  final_metrics**"
      ]
    },
    {
      "cell_type": "code",
      "metadata": {
        "colab": {
          "base_uri": "https://localhost:8080/"
        },
        "id": "MvnWHGz9cTwN",
        "outputId": "728868d4-158b-4158-8739-38056401df77"
      },
      "source": [
        "# creating dataframe of 10 records to pass to final_metrics method\r\n",
        "\r\n",
        "# i have created  a small test file which contains ten records only\r\n",
        "test_data = pd.read_csv('/content/small_churn_file.csv')\r\n",
        "test_data.shape"
      ],
      "execution_count": null,
      "outputs": [
        {
          "output_type": "execute_result",
          "data": {
            "text/plain": [
              "(10, 14)"
            ]
          },
          "metadata": {
            "tags": []
          },
          "execution_count": 33
        }
      ]
    },
    {
      "cell_type": "code",
      "metadata": {
        "colab": {
          "base_uri": "https://localhost:8080/",
          "height": 335
        },
        "id": "HJtxexV6cXXb",
        "outputId": "f39006f6-c3e6-403d-ffdc-8ac886d691ce"
      },
      "source": [
        "test_data.head(10)"
      ],
      "execution_count": null,
      "outputs": [
        {
          "output_type": "execute_result",
          "data": {
            "text/html": [
              "<div>\n",
              "<style scoped>\n",
              "    .dataframe tbody tr th:only-of-type {\n",
              "        vertical-align: middle;\n",
              "    }\n",
              "\n",
              "    .dataframe tbody tr th {\n",
              "        vertical-align: top;\n",
              "    }\n",
              "\n",
              "    .dataframe thead th {\n",
              "        text-align: right;\n",
              "    }\n",
              "</style>\n",
              "<table border=\"1\" class=\"dataframe\">\n",
              "  <thead>\n",
              "    <tr style=\"text-align: right;\">\n",
              "      <th></th>\n",
              "      <th>RowNumber</th>\n",
              "      <th>CustomerId</th>\n",
              "      <th>Surname</th>\n",
              "      <th>CreditScore</th>\n",
              "      <th>Geography</th>\n",
              "      <th>Gender</th>\n",
              "      <th>Age</th>\n",
              "      <th>Tenure</th>\n",
              "      <th>Balance</th>\n",
              "      <th>NumOfProducts</th>\n",
              "      <th>HasCrCard</th>\n",
              "      <th>IsActiveMember</th>\n",
              "      <th>EstimatedSalary</th>\n",
              "      <th>Exited</th>\n",
              "    </tr>\n",
              "  </thead>\n",
              "  <tbody>\n",
              "    <tr>\n",
              "      <th>0</th>\n",
              "      <td>1</td>\n",
              "      <td>15634602</td>\n",
              "      <td>Hargrave</td>\n",
              "      <td>456</td>\n",
              "      <td>France</td>\n",
              "      <td>Female</td>\n",
              "      <td>34</td>\n",
              "      <td>2</td>\n",
              "      <td>0.00</td>\n",
              "      <td>1</td>\n",
              "      <td>1</td>\n",
              "      <td>1</td>\n",
              "      <td>101348.88</td>\n",
              "      <td>1</td>\n",
              "    </tr>\n",
              "    <tr>\n",
              "      <th>1</th>\n",
              "      <td>2</td>\n",
              "      <td>15647311</td>\n",
              "      <td>Hill</td>\n",
              "      <td>897</td>\n",
              "      <td>Spain</td>\n",
              "      <td>Female</td>\n",
              "      <td>23</td>\n",
              "      <td>1</td>\n",
              "      <td>83807.86</td>\n",
              "      <td>1</td>\n",
              "      <td>0</td>\n",
              "      <td>1</td>\n",
              "      <td>112542.58</td>\n",
              "      <td>0</td>\n",
              "    </tr>\n",
              "    <tr>\n",
              "      <th>2</th>\n",
              "      <td>3</td>\n",
              "      <td>15619304</td>\n",
              "      <td>Onio</td>\n",
              "      <td>1123</td>\n",
              "      <td>France</td>\n",
              "      <td>Female</td>\n",
              "      <td>22</td>\n",
              "      <td>8</td>\n",
              "      <td>159660.80</td>\n",
              "      <td>3</td>\n",
              "      <td>1</td>\n",
              "      <td>0</td>\n",
              "      <td>113931.57</td>\n",
              "      <td>1</td>\n",
              "    </tr>\n",
              "    <tr>\n",
              "      <th>3</th>\n",
              "      <td>4</td>\n",
              "      <td>15701354</td>\n",
              "      <td>Boni</td>\n",
              "      <td>9098</td>\n",
              "      <td>France</td>\n",
              "      <td>Female</td>\n",
              "      <td>31</td>\n",
              "      <td>1</td>\n",
              "      <td>0.00</td>\n",
              "      <td>2</td>\n",
              "      <td>0</td>\n",
              "      <td>0</td>\n",
              "      <td>93826.63</td>\n",
              "      <td>0</td>\n",
              "    </tr>\n",
              "    <tr>\n",
              "      <th>4</th>\n",
              "      <td>5</td>\n",
              "      <td>15737888</td>\n",
              "      <td>Mitchell</td>\n",
              "      <td>123</td>\n",
              "      <td>Spain</td>\n",
              "      <td>Female</td>\n",
              "      <td>23</td>\n",
              "      <td>2</td>\n",
              "      <td>125510.82</td>\n",
              "      <td>1</td>\n",
              "      <td>1</td>\n",
              "      <td>1</td>\n",
              "      <td>79084.10</td>\n",
              "      <td>0</td>\n",
              "    </tr>\n",
              "    <tr>\n",
              "      <th>5</th>\n",
              "      <td>6</td>\n",
              "      <td>15574012</td>\n",
              "      <td>Chu</td>\n",
              "      <td>11</td>\n",
              "      <td>Spain</td>\n",
              "      <td>Male</td>\n",
              "      <td>14</td>\n",
              "      <td>8</td>\n",
              "      <td>113755.78</td>\n",
              "      <td>2</td>\n",
              "      <td>1</td>\n",
              "      <td>0</td>\n",
              "      <td>149756.71</td>\n",
              "      <td>1</td>\n",
              "    </tr>\n",
              "    <tr>\n",
              "      <th>6</th>\n",
              "      <td>7</td>\n",
              "      <td>15592531</td>\n",
              "      <td>Bartlett</td>\n",
              "      <td>789</td>\n",
              "      <td>France</td>\n",
              "      <td>Male</td>\n",
              "      <td>10</td>\n",
              "      <td>7</td>\n",
              "      <td>0.00</td>\n",
              "      <td>2</td>\n",
              "      <td>1</td>\n",
              "      <td>1</td>\n",
              "      <td>10062.80</td>\n",
              "      <td>0</td>\n",
              "    </tr>\n",
              "    <tr>\n",
              "      <th>7</th>\n",
              "      <td>8</td>\n",
              "      <td>15656148</td>\n",
              "      <td>Obinna</td>\n",
              "      <td>3465</td>\n",
              "      <td>Germany</td>\n",
              "      <td>Female</td>\n",
              "      <td>59</td>\n",
              "      <td>4</td>\n",
              "      <td>115046.74</td>\n",
              "      <td>4</td>\n",
              "      <td>1</td>\n",
              "      <td>0</td>\n",
              "      <td>119346.88</td>\n",
              "      <td>1</td>\n",
              "    </tr>\n",
              "    <tr>\n",
              "      <th>8</th>\n",
              "      <td>9</td>\n",
              "      <td>15792365</td>\n",
              "      <td>He</td>\n",
              "      <td>501</td>\n",
              "      <td>France</td>\n",
              "      <td>Male</td>\n",
              "      <td>44</td>\n",
              "      <td>4</td>\n",
              "      <td>142051.07</td>\n",
              "      <td>2</td>\n",
              "      <td>0</td>\n",
              "      <td>1</td>\n",
              "      <td>74940.50</td>\n",
              "      <td>0</td>\n",
              "    </tr>\n",
              "    <tr>\n",
              "      <th>9</th>\n",
              "      <td>10</td>\n",
              "      <td>15592389</td>\n",
              "      <td>H?</td>\n",
              "      <td>684</td>\n",
              "      <td>France</td>\n",
              "      <td>Male</td>\n",
              "      <td>27</td>\n",
              "      <td>2</td>\n",
              "      <td>134603.88</td>\n",
              "      <td>1</td>\n",
              "      <td>1</td>\n",
              "      <td>1</td>\n",
              "      <td>71725.73</td>\n",
              "      <td>0</td>\n",
              "    </tr>\n",
              "  </tbody>\n",
              "</table>\n",
              "</div>"
            ],
            "text/plain": [
              "   RowNumber  CustomerId   Surname  ...  IsActiveMember EstimatedSalary Exited\n",
              "0          1    15634602  Hargrave  ...               1       101348.88      1\n",
              "1          2    15647311      Hill  ...               1       112542.58      0\n",
              "2          3    15619304      Onio  ...               0       113931.57      1\n",
              "3          4    15701354      Boni  ...               0        93826.63      0\n",
              "4          5    15737888  Mitchell  ...               1        79084.10      0\n",
              "5          6    15574012       Chu  ...               0       149756.71      1\n",
              "6          7    15592531  Bartlett  ...               1        10062.80      0\n",
              "7          8    15656148    Obinna  ...               0       119346.88      1\n",
              "8          9    15792365        He  ...               1        74940.50      0\n",
              "9         10    15592389        H?  ...               1        71725.73      0\n",
              "\n",
              "[10 rows x 14 columns]"
            ]
          },
          "metadata": {
            "tags": []
          },
          "execution_count": 34
        }
      ]
    },
    {
      "cell_type": "code",
      "metadata": {
        "id": "W1jHEoCh-2Vh",
        "colab": {
          "base_uri": "https://localhost:8080/"
        },
        "outputId": "d723322c-3436-4d72-e26a-a3a0e1af61e0"
      },
      "source": [
        "y = test_data['Exited']\r\n",
        "test_data.drop('Exited', axis=1, inplace=True)\r\n",
        "\r\n",
        "metrics = final_metrics(test_data,y)\r\n",
        "print(metrics)"
      ],
      "execution_count": null,
      "outputs": [
        {
          "output_type": "stream",
          "text": [
            "(10, 14)\n",
            "{'accuracy': 0.8, 'precision': 0.8, 'recall': 0.8, 'f1_score': 0.8}\n"
          ],
          "name": "stdout"
        }
      ]
    }
  ]
}